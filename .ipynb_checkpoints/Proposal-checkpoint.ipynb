{
 "cells": [
  {
   "cell_type": "markdown",
   "metadata": {},
   "source": [
    "##### _Group #36 Project Proposal_\n",
    "## Heart Disease Dataset"
   ]
  },
  {
   "cell_type": "code",
   "execution_count": 2,
   "metadata": {},
   "outputs": [
    {
     "name": "stderr",
     "output_type": "stream",
     "text": [
      "── \u001b[1mAttaching packages\u001b[22m ─────────────────────────────────────── tidyverse 1.3.0 ──\n",
      "\n",
      "\u001b[32m✔\u001b[39m \u001b[34mggplot2\u001b[39m 3.3.2     \u001b[32m✔\u001b[39m \u001b[34mpurrr  \u001b[39m 0.3.4\n",
      "\u001b[32m✔\u001b[39m \u001b[34mtibble \u001b[39m 3.0.3     \u001b[32m✔\u001b[39m \u001b[34mdplyr  \u001b[39m 1.0.2\n",
      "\u001b[32m✔\u001b[39m \u001b[34mtidyr  \u001b[39m 1.1.2     \u001b[32m✔\u001b[39m \u001b[34mstringr\u001b[39m 1.4.0\n",
      "\u001b[32m✔\u001b[39m \u001b[34mreadr  \u001b[39m 1.3.1     \u001b[32m✔\u001b[39m \u001b[34mforcats\u001b[39m 0.5.0\n",
      "\n",
      "Warning message:\n",
      "“package ‘ggplot2’ was built under R version 4.0.1”\n",
      "Warning message:\n",
      "“package ‘tibble’ was built under R version 4.0.2”\n",
      "Warning message:\n",
      "“package ‘tidyr’ was built under R version 4.0.2”\n",
      "Warning message:\n",
      "“package ‘dplyr’ was built under R version 4.0.2”\n",
      "── \u001b[1mConflicts\u001b[22m ────────────────────────────────────────── tidyverse_conflicts() ──\n",
      "\u001b[31m✖\u001b[39m \u001b[34mdplyr\u001b[39m::\u001b[32mfilter()\u001b[39m masks \u001b[34mstats\u001b[39m::filter()\n",
      "\u001b[31m✖\u001b[39m \u001b[34mdplyr\u001b[39m::\u001b[32mlag()\u001b[39m    masks \u001b[34mstats\u001b[39m::lag()\n",
      "\n",
      "Warning message:\n",
      "“package ‘tidymodels’ was built under R version 4.0.2”\n",
      "── \u001b[1mAttaching packages\u001b[22m ────────────────────────────────────── tidymodels 0.1.1 ──\n",
      "\n",
      "\u001b[32m✔\u001b[39m \u001b[34mbroom    \u001b[39m 0.7.0      \u001b[32m✔\u001b[39m \u001b[34mrecipes  \u001b[39m 0.1.13\n",
      "\u001b[32m✔\u001b[39m \u001b[34mdials    \u001b[39m 0.0.9      \u001b[32m✔\u001b[39m \u001b[34mrsample  \u001b[39m 0.0.7 \n",
      "\u001b[32m✔\u001b[39m \u001b[34minfer    \u001b[39m 0.5.4      \u001b[32m✔\u001b[39m \u001b[34mtune     \u001b[39m 0.1.1 \n",
      "\u001b[32m✔\u001b[39m \u001b[34mmodeldata\u001b[39m 0.0.2      \u001b[32m✔\u001b[39m \u001b[34mworkflows\u001b[39m 0.2.0 \n",
      "\u001b[32m✔\u001b[39m \u001b[34mparsnip  \u001b[39m 0.1.3      \u001b[32m✔\u001b[39m \u001b[34myardstick\u001b[39m 0.0.7 \n",
      "\n",
      "Warning message:\n",
      "“package ‘broom’ was built under R version 4.0.2”\n",
      "Warning message:\n",
      "“package ‘dials’ was built under R version 4.0.2”\n",
      "Warning message:\n",
      "“package ‘infer’ was built under R version 4.0.3”\n",
      "Warning message:\n",
      "“package ‘modeldata’ was built under R version 4.0.1”\n",
      "Warning message:\n",
      "“package ‘parsnip’ was built under R version 4.0.2”\n",
      "Warning message:\n",
      "“package ‘recipes’ was built under R version 4.0.1”\n",
      "Warning message:\n",
      "“package ‘tune’ was built under R version 4.0.2”\n",
      "Warning message:\n",
      "“package ‘workflows’ was built under R version 4.0.2”\n",
      "Warning message:\n",
      "“package ‘yardstick’ was built under R version 4.0.2”\n",
      "── \u001b[1mConflicts\u001b[22m ───────────────────────────────────────── tidymodels_conflicts() ──\n",
      "\u001b[31m✖\u001b[39m \u001b[34mscales\u001b[39m::\u001b[32mdiscard()\u001b[39m masks \u001b[34mpurrr\u001b[39m::discard()\n",
      "\u001b[31m✖\u001b[39m \u001b[34mdplyr\u001b[39m::\u001b[32mfilter()\u001b[39m   masks \u001b[34mstats\u001b[39m::filter()\n",
      "\u001b[31m✖\u001b[39m \u001b[34mrecipes\u001b[39m::\u001b[32mfixed()\u001b[39m  masks \u001b[34mstringr\u001b[39m::fixed()\n",
      "\u001b[31m✖\u001b[39m \u001b[34mdplyr\u001b[39m::\u001b[32mlag()\u001b[39m      masks \u001b[34mstats\u001b[39m::lag()\n",
      "\u001b[31m✖\u001b[39m \u001b[34myardstick\u001b[39m::\u001b[32mspec()\u001b[39m masks \u001b[34mreadr\u001b[39m::spec()\n",
      "\u001b[31m✖\u001b[39m \u001b[34mrecipes\u001b[39m::\u001b[32mstep()\u001b[39m   masks \u001b[34mstats\u001b[39m::step()\n",
      "\n",
      "Registered S3 method overwritten by 'GGally':\n",
      "  method from   \n",
      "  +.gg   ggplot2\n",
      "\n"
     ]
    }
   ],
   "source": [
    "# These packages need to be loaded\n",
    "\n",
    "library(tidyverse)\n",
    "library(repr)\n",
    "library(tidymodels)\n",
    "library(dplyr)\n",
    "library(GGally)\n",
    "\n",
    "options(repr.matrix.max.rows = 6)\n",
    "set.seed(1)"
   ]
  },
  {
   "cell_type": "markdown",
   "metadata": {},
   "source": [
    "# _1) Introduction:_"
   ]
  },
  {
   "cell_type": "markdown",
   "metadata": {},
   "source": [
    "* Heart disease is an increasingly prevalent and crippling disease accepting a multitude of different people across the globe. Given its severity, the ability to accurately diagnose the disease early is becoming increasingly important to ensure the longevity of these affected individuals. \n",
    "\n",
    "* Within our project we are looking to see if age and maximum heart rate achieved can accurately predict the diagnosis of heart disease. \n",
    "\n",
    "* The data set we will be using is a compiled data set about Heart Disease which we found on KAGGLE. It consists of different onset heart disease indicators with data from multiple different countries and spanning from 1988 onwards. The data was measured upon hospital admission for acute chest pain. This data set includes data on the age, sex, cheat pain type from 0-4, the resting blood pressure, serum cholestoral level in the blood, the fasting blood sugar, the resting electrocardiographic results with values 0-2, the maximum heart rate achieved, the presence of exercise induced angina, data about results of electrocartiogram tests including the ST depression value and the slope of the ST segment, # of major vessels from 0-3, and the diagnosis of the blood disorder thalassemia with 0 as normal, 1 as fixed defect and 2 as reversable defect. \n",
    "\n",
    "* Finally, the last column, target column, represents the presence of heart disease in the patient with the following two cases:\n",
    "            1. 0 = no disease\n",
    "            2. 1 = disease\n"
   ]
  },
  {
   "cell_type": "markdown",
   "metadata": {},
   "source": [
    "\n",
    "------------------------------------------------------------------------------------------------------------------\n"
   ]
  },
  {
   "cell_type": "markdown",
   "metadata": {},
   "source": [
    "# _2) Preliminary exploratory data analysis:_"
   ]
  },
  {
   "cell_type": "markdown",
   "metadata": {},
   "source": [
    "##### Below we demonstrate that the dataset can be read from the web into R through a URL. We clean and wrangle our data into a tidy format by removing the repeated observations in the set. It was stated on the website where we retrieved the data from therefore we removed repeated observations using unique() function. This decreases the total rows from 1025 to 302. Otherwise, our data is already in a tidy format because in each column there is one variable and each row has one observation\n",
    "\n"
   ]
  },
  {
   "cell_type": "code",
   "execution_count": 3,
   "metadata": {},
   "outputs": [
    {
     "name": "stderr",
     "output_type": "stream",
     "text": [
      "Parsed with column specification:\n",
      "cols(\n",
      "  age = \u001b[32mcol_double()\u001b[39m,\n",
      "  sex = \u001b[32mcol_double()\u001b[39m,\n",
      "  cp = \u001b[32mcol_double()\u001b[39m,\n",
      "  trestbps = \u001b[32mcol_double()\u001b[39m,\n",
      "  chol = \u001b[32mcol_double()\u001b[39m,\n",
      "  fbs = \u001b[32mcol_double()\u001b[39m,\n",
      "  restecg = \u001b[32mcol_double()\u001b[39m,\n",
      "  thalach = \u001b[32mcol_double()\u001b[39m,\n",
      "  exang = \u001b[32mcol_double()\u001b[39m,\n",
      "  oldpeak = \u001b[32mcol_double()\u001b[39m,\n",
      "  slope = \u001b[32mcol_double()\u001b[39m,\n",
      "  ca = \u001b[32mcol_double()\u001b[39m,\n",
      "  thal = \u001b[32mcol_double()\u001b[39m,\n",
      "  target = \u001b[32mcol_double()\u001b[39m\n",
      ")\n",
      "\n"
     ]
    },
    {
     "data": {
      "text/html": [
       "<table>\n",
       "<caption>A tibble: 302 × 14</caption>\n",
       "<thead>\n",
       "\t<tr><th scope=col>age</th><th scope=col>sex</th><th scope=col>cp</th><th scope=col>trestbps</th><th scope=col>chol</th><th scope=col>fbs</th><th scope=col>restecg</th><th scope=col>thalach</th><th scope=col>exang</th><th scope=col>oldpeak</th><th scope=col>slope</th><th scope=col>ca</th><th scope=col>thal</th><th scope=col>target</th></tr>\n",
       "\t<tr><th scope=col>&lt;dbl&gt;</th><th scope=col>&lt;dbl&gt;</th><th scope=col>&lt;dbl&gt;</th><th scope=col>&lt;dbl&gt;</th><th scope=col>&lt;dbl&gt;</th><th scope=col>&lt;dbl&gt;</th><th scope=col>&lt;dbl&gt;</th><th scope=col>&lt;dbl&gt;</th><th scope=col>&lt;dbl&gt;</th><th scope=col>&lt;dbl&gt;</th><th scope=col>&lt;dbl&gt;</th><th scope=col>&lt;dbl&gt;</th><th scope=col>&lt;dbl&gt;</th><th scope=col>&lt;fct&gt;</th></tr>\n",
       "</thead>\n",
       "<tbody>\n",
       "\t<tr><td>52</td><td>1</td><td>0</td><td>125</td><td>212</td><td>0</td><td>1</td><td>168</td><td>0</td><td>1.0</td><td>2</td><td>2</td><td>3</td><td>0</td></tr>\n",
       "\t<tr><td>53</td><td>1</td><td>0</td><td>140</td><td>203</td><td>1</td><td>0</td><td>155</td><td>1</td><td>3.1</td><td>0</td><td>0</td><td>3</td><td>0</td></tr>\n",
       "\t<tr><td>70</td><td>1</td><td>0</td><td>145</td><td>174</td><td>0</td><td>1</td><td>125</td><td>1</td><td>2.6</td><td>0</td><td>0</td><td>3</td><td>0</td></tr>\n",
       "\t<tr><td>⋮</td><td>⋮</td><td>⋮</td><td>⋮</td><td>⋮</td><td>⋮</td><td>⋮</td><td>⋮</td><td>⋮</td><td>⋮</td><td>⋮</td><td>⋮</td><td>⋮</td><td>⋮</td></tr>\n",
       "\t<tr><td>52</td><td>1</td><td>0</td><td>128</td><td>255</td><td>0</td><td>1</td><td>161</td><td>1</td><td>0.0</td><td>2</td><td>1</td><td>3</td><td>0</td></tr>\n",
       "\t<tr><td>59</td><td>1</td><td>3</td><td>160</td><td>273</td><td>0</td><td>0</td><td>125</td><td>0</td><td>0.0</td><td>2</td><td>0</td><td>2</td><td>0</td></tr>\n",
       "\t<tr><td>54</td><td>1</td><td>0</td><td>120</td><td>188</td><td>0</td><td>1</td><td>113</td><td>0</td><td>1.4</td><td>1</td><td>1</td><td>3</td><td>0</td></tr>\n",
       "</tbody>\n",
       "</table>\n"
      ],
      "text/latex": [
       "A tibble: 302 × 14\n",
       "\\begin{tabular}{llllllllllllll}\n",
       " age & sex & cp & trestbps & chol & fbs & restecg & thalach & exang & oldpeak & slope & ca & thal & target\\\\\n",
       " <dbl> & <dbl> & <dbl> & <dbl> & <dbl> & <dbl> & <dbl> & <dbl> & <dbl> & <dbl> & <dbl> & <dbl> & <dbl> & <fct>\\\\\n",
       "\\hline\n",
       "\t 52 & 1 & 0 & 125 & 212 & 0 & 1 & 168 & 0 & 1.0 & 2 & 2 & 3 & 0\\\\\n",
       "\t 53 & 1 & 0 & 140 & 203 & 1 & 0 & 155 & 1 & 3.1 & 0 & 0 & 3 & 0\\\\\n",
       "\t 70 & 1 & 0 & 145 & 174 & 0 & 1 & 125 & 1 & 2.6 & 0 & 0 & 3 & 0\\\\\n",
       "\t ⋮ & ⋮ & ⋮ & ⋮ & ⋮ & ⋮ & ⋮ & ⋮ & ⋮ & ⋮ & ⋮ & ⋮ & ⋮ & ⋮\\\\\n",
       "\t 52 & 1 & 0 & 128 & 255 & 0 & 1 & 161 & 1 & 0.0 & 2 & 1 & 3 & 0\\\\\n",
       "\t 59 & 1 & 3 & 160 & 273 & 0 & 0 & 125 & 0 & 0.0 & 2 & 0 & 2 & 0\\\\\n",
       "\t 54 & 1 & 0 & 120 & 188 & 0 & 1 & 113 & 0 & 1.4 & 1 & 1 & 3 & 0\\\\\n",
       "\\end{tabular}\n"
      ],
      "text/markdown": [
       "\n",
       "A tibble: 302 × 14\n",
       "\n",
       "| age &lt;dbl&gt; | sex &lt;dbl&gt; | cp &lt;dbl&gt; | trestbps &lt;dbl&gt; | chol &lt;dbl&gt; | fbs &lt;dbl&gt; | restecg &lt;dbl&gt; | thalach &lt;dbl&gt; | exang &lt;dbl&gt; | oldpeak &lt;dbl&gt; | slope &lt;dbl&gt; | ca &lt;dbl&gt; | thal &lt;dbl&gt; | target &lt;fct&gt; |\n",
       "|---|---|---|---|---|---|---|---|---|---|---|---|---|---|\n",
       "| 52 | 1 | 0 | 125 | 212 | 0 | 1 | 168 | 0 | 1.0 | 2 | 2 | 3 | 0 |\n",
       "| 53 | 1 | 0 | 140 | 203 | 1 | 0 | 155 | 1 | 3.1 | 0 | 0 | 3 | 0 |\n",
       "| 70 | 1 | 0 | 145 | 174 | 0 | 1 | 125 | 1 | 2.6 | 0 | 0 | 3 | 0 |\n",
       "| ⋮ | ⋮ | ⋮ | ⋮ | ⋮ | ⋮ | ⋮ | ⋮ | ⋮ | ⋮ | ⋮ | ⋮ | ⋮ | ⋮ |\n",
       "| 52 | 1 | 0 | 128 | 255 | 0 | 1 | 161 | 1 | 0.0 | 2 | 1 | 3 | 0 |\n",
       "| 59 | 1 | 3 | 160 | 273 | 0 | 0 | 125 | 0 | 0.0 | 2 | 0 | 2 | 0 |\n",
       "| 54 | 1 | 0 | 120 | 188 | 0 | 1 | 113 | 0 | 1.4 | 1 | 1 | 3 | 0 |\n",
       "\n"
      ],
      "text/plain": [
       "    age sex cp trestbps chol fbs restecg thalach exang oldpeak slope ca thal\n",
       "1   52  1   0  125      212  0   1       168     0     1.0     2     2  3   \n",
       "2   53  1   0  140      203  1   0       155     1     3.1     0     0  3   \n",
       "3   70  1   0  145      174  0   1       125     1     2.6     0     0  3   \n",
       "⋮   ⋮   ⋮   ⋮  ⋮        ⋮    ⋮   ⋮       ⋮       ⋮     ⋮       ⋮     ⋮  ⋮   \n",
       "300 52  1   0  128      255  0   1       161     1     0.0     2     1  3   \n",
       "301 59  1   3  160      273  0   0       125     0     0.0     2     0  2   \n",
       "302 54  1   0  120      188  0   1       113     0     1.4     1     1  3   \n",
       "    target\n",
       "1   0     \n",
       "2   0     \n",
       "3   0     \n",
       "⋮   ⋮     \n",
       "300 0     \n",
       "301 0     \n",
       "302 0     "
      ]
     },
     "metadata": {},
     "output_type": "display_data"
    }
   ],
   "source": [
    "url <- \"https://raw.githubusercontent.com/sadia-kd/DSCI-Project/main/heart.csv\"\n",
    "\n",
    "heart_disease <- read_csv(url) %>%\n",
    "    mutate(target = as_factor(target)) %>%\n",
    "    unique()\n",
    "\n",
    "heart_disease"
   ]
  },
  {
   "cell_type": "markdown",
   "metadata": {},
   "source": [
    "### Explore The Data\n",
    "\n",
    "* Here, I summarized the data in a table (exploratory data analysis). We have a table that reports the number of observations in each class, in the training data\n"
   ]
  },
  {
   "cell_type": "code",
   "execution_count": 4,
   "metadata": {},
   "outputs": [],
   "source": [
    "# Here we split the data into training and testing data so we can further use only\n",
    "# training data for exploratory data analysis\n",
    "\n",
    "heart_disease_split <- initial_split(heart_disease, prop = 0.75, strata = target)\n",
    "heart_disease_train <- training(heart_disease_split)\n",
    "heart_disease_test <- testing(heart_disease_split) "
   ]
  },
  {
   "cell_type": "code",
   "execution_count": 5,
   "metadata": {},
   "outputs": [
    {
     "name": "stderr",
     "output_type": "stream",
     "text": [
      "`summarise()` ungrouping output (override with `.groups` argument)\n",
      "\n"
     ]
    },
    {
     "data": {
      "text/html": [
       "<table>\n",
       "<caption>A tibble: 2 × 3</caption>\n",
       "<thead>\n",
       "\t<tr><th scope=col>target</th><th scope=col>count</th><th scope=col>percentage</th></tr>\n",
       "\t<tr><th scope=col>&lt;fct&gt;</th><th scope=col>&lt;int&gt;</th><th scope=col>&lt;dbl&gt;</th></tr>\n",
       "</thead>\n",
       "<tbody>\n",
       "\t<tr><td>0</td><td>104</td><td>45.81498</td></tr>\n",
       "\t<tr><td>1</td><td>123</td><td>54.18502</td></tr>\n",
       "</tbody>\n",
       "</table>\n"
      ],
      "text/latex": [
       "A tibble: 2 × 3\n",
       "\\begin{tabular}{lll}\n",
       " target & count & percentage\\\\\n",
       " <fct> & <int> & <dbl>\\\\\n",
       "\\hline\n",
       "\t 0 & 104 & 45.81498\\\\\n",
       "\t 1 & 123 & 54.18502\\\\\n",
       "\\end{tabular}\n"
      ],
      "text/markdown": [
       "\n",
       "A tibble: 2 × 3\n",
       "\n",
       "| target &lt;fct&gt; | count &lt;int&gt; | percentage &lt;dbl&gt; |\n",
       "|---|---|---|\n",
       "| 0 | 104 | 45.81498 |\n",
       "| 1 | 123 | 54.18502 |\n",
       "\n"
      ],
      "text/plain": [
       "  target count percentage\n",
       "1 0      104   45.81498  \n",
       "2 1      123   54.18502  "
      ]
     },
     "metadata": {},
     "output_type": "display_data"
    },
    {
     "data": {
      "text/plain": [
       "      age             sex               cp            trestbps    \n",
       " Min.   :29.00   Min.   :0.0000   Min.   :0.0000   Min.   : 94.0  \n",
       " 1st Qu.:47.00   1st Qu.:0.0000   1st Qu.:0.0000   1st Qu.:120.0  \n",
       " Median :55.00   Median :1.0000   Median :1.0000   Median :130.0  \n",
       " Mean   :54.25   Mean   :0.6784   Mean   :0.9163   Mean   :130.9  \n",
       " 3rd Qu.:61.00   3rd Qu.:1.0000   3rd Qu.:2.0000   3rd Qu.:140.0  \n",
       " Max.   :74.00   Max.   :1.0000   Max.   :3.0000   Max.   :200.0  \n",
       "      chol            fbs            restecg          thalach     \n",
       " Min.   :126.0   Min.   :0.0000   Min.   :0.0000   Min.   : 71.0  \n",
       " 1st Qu.:211.0   1st Qu.:0.0000   1st Qu.:0.0000   1st Qu.:139.5  \n",
       " Median :241.0   Median :0.0000   Median :1.0000   Median :154.0  \n",
       " Mean   :249.0   Mean   :0.1498   Mean   :0.5463   Mean   :150.7  \n",
       " 3rd Qu.:279.5   3rd Qu.:0.0000   3rd Qu.:1.0000   3rd Qu.:167.5  \n",
       " Max.   :564.0   Max.   :1.0000   Max.   :2.0000   Max.   :202.0  \n",
       "     exang           oldpeak          slope            ca        \n",
       " Min.   :0.0000   Min.   :0.000   Min.   :0.00   Min.   :0.0000  \n",
       " 1st Qu.:0.0000   1st Qu.:0.000   1st Qu.:1.00   1st Qu.:0.0000  \n",
       " Median :0.0000   Median :0.800   Median :1.00   Median :0.0000  \n",
       " Mean   :0.3436   Mean   :1.019   Mean   :1.41   Mean   :0.6916  \n",
       " 3rd Qu.:1.0000   3rd Qu.:1.600   3rd Qu.:2.00   3rd Qu.:1.0000  \n",
       " Max.   :1.0000   Max.   :5.600   Max.   :2.00   Max.   :4.0000  \n",
       "      thal       target \n",
       " Min.   :0.000   0:104  \n",
       " 1st Qu.:2.000   1:123  \n",
       " Median :2.000          \n",
       " Mean   :2.304          \n",
       " 3rd Qu.:3.000          \n",
       " Max.   :3.000          "
      ]
     },
     "metadata": {},
     "output_type": "display_data"
    }
   ],
   "source": [
    "# Summarize the DATA \n",
    "\n",
    "obs <- nrow(heart_disease_train)\n",
    "\n",
    "data_count <- heart_disease_train %>%\n",
    "    group_by(target) %>%\n",
    "    summarize(count = n(), percentage = n()/obs * 100)\n",
    "\n",
    "data_count\n",
    "\n",
    "summary(heart_disease_train)"
   ]
  },
  {
   "cell_type": "markdown",
   "metadata": {},
   "source": [
    "This illustrates that in this data set, about 46% do not have a heart disease (0) , and 54 % do have a heart disease (1)"
   ]
  },
  {
   "cell_type": "markdown",
   "metadata": {},
   "source": [
    "\n",
    "-----------------------------------------------------------------------------------------------------------------\n"
   ]
  },
  {
   "cell_type": "markdown",
   "metadata": {},
   "source": [
    "### Visualize the Data"
   ]
  },
  {
   "cell_type": "markdown",
   "metadata": {},
   "source": [
    "* Using only training data, we visualize the data relevant to our analysis we plan to do. An example of a useful visualization could be one that compares the distributions of each of the predictor variables you plan to use in your analysis."
   ]
  },
  {
   "cell_type": "code",
   "execution_count": 6,
   "metadata": {},
   "outputs": [
    {
     "data": {
      "text/html": [
       "<table>\n",
       "<caption>A tibble: 227 × 14</caption>\n",
       "<thead>\n",
       "\t<tr><th scope=col>age</th><th scope=col>sex</th><th scope=col>cp</th><th scope=col>trestbps</th><th scope=col>chol</th><th scope=col>fbs</th><th scope=col>restecg</th><th scope=col>thalach</th><th scope=col>exang</th><th scope=col>oldpeak</th><th scope=col>slope</th><th scope=col>ca</th><th scope=col>thal</th><th scope=col>target</th></tr>\n",
       "\t<tr><th scope=col>&lt;dbl&gt;</th><th scope=col>&lt;dbl&gt;</th><th scope=col>&lt;dbl&gt;</th><th scope=col>&lt;dbl&gt;</th><th scope=col>&lt;dbl&gt;</th><th scope=col>&lt;dbl&gt;</th><th scope=col>&lt;dbl&gt;</th><th scope=col>&lt;dbl&gt;</th><th scope=col>&lt;dbl&gt;</th><th scope=col>&lt;dbl&gt;</th><th scope=col>&lt;dbl&gt;</th><th scope=col>&lt;dbl&gt;</th><th scope=col>&lt;dbl&gt;</th><th scope=col>&lt;fct&gt;</th></tr>\n",
       "</thead>\n",
       "<tbody>\n",
       "\t<tr><td>-0.2480398</td><td>0.6869773</td><td>-0.8902681</td><td>-0.3312515</td><td>-0.6896746</td><td>-0.4187956</td><td> 0.8786896</td><td> 0.7605765</td><td>-0.7219306</td><td>-0.01714278</td><td> 0.9412078</td><td> 1.3690368</td><td>1.141504</td><td>0</td></tr>\n",
       "\t<tr><td>-0.1378538</td><td>0.6869773</td><td>-0.8902681</td><td> 0.5123621</td><td>-0.8573136</td><td> 2.3772808</td><td>-1.0578399</td><td> 0.1883018</td><td> 1.3790726</td><td> 1.84012128</td><td>-2.2476604</td><td>-0.7236996</td><td>1.141504</td><td>0</td></tr>\n",
       "\t<tr><td> 1.7353079</td><td>0.6869773</td><td>-0.8902681</td><td> 0.7935667</td><td>-1.3974835</td><td>-0.4187956</td><td> 0.8786896</td><td>-1.1323320</td><td> 1.3790726</td><td> 1.39791555</td><td>-2.2476604</td><td>-0.7236996</td><td>1.141504</td><td>0</td></tr>\n",
       "\t<tr><td>⋮</td><td>⋮</td><td>⋮</td><td>⋮</td><td>⋮</td><td>⋮</td><td>⋮</td><td>⋮</td><td>⋮</td><td>⋮</td><td>⋮</td><td>⋮</td><td>⋮</td><td>⋮</td></tr>\n",
       "\t<tr><td>-0.24803981</td><td>0.6869773</td><td>-0.8902681</td><td>-0.1625288</td><td> 0.1112670</td><td>-0.4187956</td><td> 0.8786896</td><td> 0.4524286</td><td> 1.3790726</td><td>-0.9015542</td><td> 0.9412078</td><td> 0.3226686</td><td> 1.141504</td><td>0</td></tr>\n",
       "\t<tr><td> 0.52326207</td><td>0.6869773</td><td> 2.0245040</td><td> 1.6371804</td><td> 0.4465448</td><td>-0.4187956</td><td>-1.0578399</td><td>-1.1323320</td><td>-0.7219306</td><td>-0.9015542</td><td> 0.9412078</td><td>-0.7236996</td><td>-0.498505</td><td>0</td></tr>\n",
       "\t<tr><td>-0.02766785</td><td>0.6869773</td><td>-0.8902681</td><td>-0.6124561</td><td>-1.1367118</td><td>-0.4187956</td><td> 0.8786896</td><td>-1.6605855</td><td>-0.7219306</td><td> 0.3366218</td><td>-0.6532263</td><td> 0.3226686</td><td> 1.141504</td><td>0</td></tr>\n",
       "</tbody>\n",
       "</table>\n"
      ],
      "text/latex": [
       "A tibble: 227 × 14\n",
       "\\begin{tabular}{llllllllllllll}\n",
       " age & sex & cp & trestbps & chol & fbs & restecg & thalach & exang & oldpeak & slope & ca & thal & target\\\\\n",
       " <dbl> & <dbl> & <dbl> & <dbl> & <dbl> & <dbl> & <dbl> & <dbl> & <dbl> & <dbl> & <dbl> & <dbl> & <dbl> & <fct>\\\\\n",
       "\\hline\n",
       "\t -0.2480398 & 0.6869773 & -0.8902681 & -0.3312515 & -0.6896746 & -0.4187956 &  0.8786896 &  0.7605765 & -0.7219306 & -0.01714278 &  0.9412078 &  1.3690368 & 1.141504 & 0\\\\\n",
       "\t -0.1378538 & 0.6869773 & -0.8902681 &  0.5123621 & -0.8573136 &  2.3772808 & -1.0578399 &  0.1883018 &  1.3790726 &  1.84012128 & -2.2476604 & -0.7236996 & 1.141504 & 0\\\\\n",
       "\t  1.7353079 & 0.6869773 & -0.8902681 &  0.7935667 & -1.3974835 & -0.4187956 &  0.8786896 & -1.1323320 &  1.3790726 &  1.39791555 & -2.2476604 & -0.7236996 & 1.141504 & 0\\\\\n",
       "\t ⋮ & ⋮ & ⋮ & ⋮ & ⋮ & ⋮ & ⋮ & ⋮ & ⋮ & ⋮ & ⋮ & ⋮ & ⋮ & ⋮\\\\\n",
       "\t -0.24803981 & 0.6869773 & -0.8902681 & -0.1625288 &  0.1112670 & -0.4187956 &  0.8786896 &  0.4524286 &  1.3790726 & -0.9015542 &  0.9412078 &  0.3226686 &  1.141504 & 0\\\\\n",
       "\t  0.52326207 & 0.6869773 &  2.0245040 &  1.6371804 &  0.4465448 & -0.4187956 & -1.0578399 & -1.1323320 & -0.7219306 & -0.9015542 &  0.9412078 & -0.7236996 & -0.498505 & 0\\\\\n",
       "\t -0.02766785 & 0.6869773 & -0.8902681 & -0.6124561 & -1.1367118 & -0.4187956 &  0.8786896 & -1.6605855 & -0.7219306 &  0.3366218 & -0.6532263 &  0.3226686 &  1.141504 & 0\\\\\n",
       "\\end{tabular}\n"
      ],
      "text/markdown": [
       "\n",
       "A tibble: 227 × 14\n",
       "\n",
       "| age &lt;dbl&gt; | sex &lt;dbl&gt; | cp &lt;dbl&gt; | trestbps &lt;dbl&gt; | chol &lt;dbl&gt; | fbs &lt;dbl&gt; | restecg &lt;dbl&gt; | thalach &lt;dbl&gt; | exang &lt;dbl&gt; | oldpeak &lt;dbl&gt; | slope &lt;dbl&gt; | ca &lt;dbl&gt; | thal &lt;dbl&gt; | target &lt;fct&gt; |\n",
       "|---|---|---|---|---|---|---|---|---|---|---|---|---|---|\n",
       "| -0.2480398 | 0.6869773 | -0.8902681 | -0.3312515 | -0.6896746 | -0.4187956 |  0.8786896 |  0.7605765 | -0.7219306 | -0.01714278 |  0.9412078 |  1.3690368 | 1.141504 | 0 |\n",
       "| -0.1378538 | 0.6869773 | -0.8902681 |  0.5123621 | -0.8573136 |  2.3772808 | -1.0578399 |  0.1883018 |  1.3790726 |  1.84012128 | -2.2476604 | -0.7236996 | 1.141504 | 0 |\n",
       "|  1.7353079 | 0.6869773 | -0.8902681 |  0.7935667 | -1.3974835 | -0.4187956 |  0.8786896 | -1.1323320 |  1.3790726 |  1.39791555 | -2.2476604 | -0.7236996 | 1.141504 | 0 |\n",
       "| ⋮ | ⋮ | ⋮ | ⋮ | ⋮ | ⋮ | ⋮ | ⋮ | ⋮ | ⋮ | ⋮ | ⋮ | ⋮ | ⋮ |\n",
       "| -0.24803981 | 0.6869773 | -0.8902681 | -0.1625288 |  0.1112670 | -0.4187956 |  0.8786896 |  0.4524286 |  1.3790726 | -0.9015542 |  0.9412078 |  0.3226686 |  1.141504 | 0 |\n",
       "|  0.52326207 | 0.6869773 |  2.0245040 |  1.6371804 |  0.4465448 | -0.4187956 | -1.0578399 | -1.1323320 | -0.7219306 | -0.9015542 |  0.9412078 | -0.7236996 | -0.498505 | 0 |\n",
       "| -0.02766785 | 0.6869773 | -0.8902681 | -0.6124561 | -1.1367118 | -0.4187956 |  0.8786896 | -1.6605855 | -0.7219306 |  0.3366218 | -0.6532263 |  0.3226686 |  1.141504 | 0 |\n",
       "\n"
      ],
      "text/plain": [
       "    age         sex       cp         trestbps   chol       fbs       \n",
       "1   -0.2480398  0.6869773 -0.8902681 -0.3312515 -0.6896746 -0.4187956\n",
       "2   -0.1378538  0.6869773 -0.8902681  0.5123621 -0.8573136  2.3772808\n",
       "3    1.7353079  0.6869773 -0.8902681  0.7935667 -1.3974835 -0.4187956\n",
       "⋮   ⋮           ⋮         ⋮          ⋮          ⋮          ⋮         \n",
       "225 -0.24803981 0.6869773 -0.8902681 -0.1625288  0.1112670 -0.4187956\n",
       "226  0.52326207 0.6869773  2.0245040  1.6371804  0.4465448 -0.4187956\n",
       "227 -0.02766785 0.6869773 -0.8902681 -0.6124561 -1.1367118 -0.4187956\n",
       "    restecg    thalach    exang      oldpeak     slope      ca        \n",
       "1    0.8786896  0.7605765 -0.7219306 -0.01714278  0.9412078  1.3690368\n",
       "2   -1.0578399  0.1883018  1.3790726  1.84012128 -2.2476604 -0.7236996\n",
       "3    0.8786896 -1.1323320  1.3790726  1.39791555 -2.2476604 -0.7236996\n",
       "⋮   ⋮          ⋮          ⋮          ⋮           ⋮          ⋮         \n",
       "225  0.8786896  0.4524286  1.3790726 -0.9015542   0.9412078  0.3226686\n",
       "226 -1.0578399 -1.1323320 -0.7219306 -0.9015542   0.9412078 -0.7236996\n",
       "227  0.8786896 -1.6605855 -0.7219306  0.3366218  -0.6532263  0.3226686\n",
       "    thal      target\n",
       "1   1.141504  0     \n",
       "2   1.141504  0     \n",
       "3   1.141504  0     \n",
       "⋮   ⋮         ⋮     \n",
       "225  1.141504 0     \n",
       "226 -0.498505 0     \n",
       "227  1.141504 0     "
      ]
     },
     "metadata": {},
     "output_type": "display_data"
    }
   ],
   "source": [
    "# I Scale and Center the DATA here and use this to get more affective plots\n",
    "\n",
    "scaled_heart_disease <- recipe(target  ~ ., data = heart_disease_train) %>%\n",
    "    step_scale(all_predictors()) %>%\n",
    "    step_center(all_predictors()) %>%\n",
    "    prep() %>%\n",
    "    bake(heart_disease_train)\n",
    "\n",
    "scaled_heart_disease"
   ]
  },
  {
   "cell_type": "code",
   "execution_count": 7,
   "metadata": {},
   "outputs": [],
   "source": [
    "# I plot a graph of cholesterol levels vs. maximum heart rate achieved\n",
    "\n",
    "plot_1 <- scaled_heart_disease %>%\n",
    "    ggplot(aes(x = thalach, y =chol, color = target)) +\n",
    "    geom_point() +\n",
    "    labs(x = \"Maximum Heart Rate Achieved\", y = \"Cholesterol Levels\", color = \"Heart Diease or No\") +\n",
    "    ggtitle(\"Cholesterol Levels vs Maximum Heart Rate Achieved\")"
   ]
  },
  {
   "cell_type": "code",
   "execution_count": 8,
   "metadata": {},
   "outputs": [],
   "source": [
    "plot_2 <- scaled_heart_disease %>%\n",
    "    ggplot(aes(x = age, y = trestbps, color = target)) +\n",
    "    geom_point() +\n",
    "    labs(x = \"Age\", y = \"Resting Blood Presure (mm Hg)\", color = \"Heart Disease or NO\")"
   ]
  },
  {
   "cell_type": "code",
   "execution_count": 9,
   "metadata": {},
   "outputs": [],
   "source": [
    "plot_3 <- scaled_heart_disease %>%\n",
    "    ggplot(aes(x = age, y = oldpeak, color = target)) +\n",
    "    geom_point() +\n",
    "    labs(x = \"Age\", y = \"ST depression\", color = \"Heart Disease or NO\")"
   ]
  },
  {
   "cell_type": "code",
   "execution_count": null,
   "metadata": {},
   "outputs": [],
   "source": [
    "# Plot all predictors against each other\n",
    "options(repr.plot.width = 16, repr.plot.height = 10) \n",
    "\n",
    "plots <- ggpairs(scaled_heart_disease, mapping = NULL, columns = 1:13) \n",
    "\n",
    "plots"
   ]
  },
  {
   "cell_type": "markdown",
   "metadata": {},
   "source": [
    "\n",
    "------------------------------------------------------------------------------------------------------------------\n"
   ]
  },
  {
   "cell_type": "markdown",
   "metadata": {},
   "source": [
    "# _3) METHODS:_"
   ]
  },
  {
   "cell_type": "markdown",
   "metadata": {},
   "source": [
    "### Data analysis steps:\n",
    "\n",
    "1. Formulate a precise question that we want to answer:\n",
    "    - Can age and maximum heart rate achieved can accurately predict the diagnosis of heart disease?\n",
    "2. Loading the data: \n",
    "    - start by loading the tidyverrse package\n",
    "    - Read the dataset using read_csv with no additional arguments, and then inspect its contents\n",
    "    - Remove duplicated data from the dataset\n",
    "    - Use function glimpse(dataset) to preview the data frame\n",
    "    - Use function pull to extract a single column (target) and pass that into levels function to see the categories in the target column. \n",
    "3. Split the dataset into training data and testing data\n",
    "    - Set the seed as set.seed(1)\n",
    "    - Use the initial_split function to create the training and testing sets\n",
    "4. Exploring the data\n",
    "    - Use the group_by, summarize and n function to find the number and percentage of having heart disease(integer value = 1) or not (integer value = 0).\n",
    "    - Draw a scatter plot to visualize the relationship between age and maximum heart rate achieved variables.\n",
    "    - Based on the visualization, decide if these are useful variable for prediction\n",
    "    - Classification with K-nearest neighbors\n",
    "5. Choose a K value\n",
    "    - Choose some candidate values of K   \n",
    "    - Split the traning data into two sets, traning set and validation set\n",
    "    - For each K, tran the model using traning set only\n",
    "    - Evaluate accuracy for each using validation set only\n",
    "    - Apply corss-validation technique - splitting multiple ways and averaging\n",
    "    - Pick the K that maximizes validation accuracy\n",
    "6. Classification\n",
    "    - Load library tidymodels\n",
    "    - Pick out our two desired predictor variables and class label and store them as a new data set\n",
    "    - Create a model specification for K-nearest neighbors classification by calling the nearest_neighbor function.\n",
    "    - Pass the model specification and the dataset to the fit function\n",
    "    - Now we can use the predict function to predict our testing data.\n",
    "7. Result analysis\n",
    "    - Use the bind_cols function to add the column of predictions to the original test data\n",
    "    - Create a confusion matrix by using the conf_mat function. Calculate accuracy = (TP+TN) / total number of test result \n",
    "8. Conclusion\n",
    "    - Review our model\n",
    "    - Review our goal how accurate age and maximum heart rate achieved can predict if the patient have heart disease, based on the data in this dataset\n",
    "    - Finalize report"
   ]
  },
  {
   "cell_type": "markdown",
   "metadata": {},
   "source": [
    "### Reason to choose age and maximum heart rate achieved:"
   ]
  },
  {
   "cell_type": "code",
   "execution_count": null,
   "metadata": {},
   "outputs": [],
   "source": [
    "heart_disease_var_check <- data_train %>%\n",
    "    ggplot(aes(x = thalach, y=age, color = target)) +\n",
    "    geom_point() +\n",
    "    labs(x = \"Maximum Heart Rate Achieved\", y = \"Age\", color = \"Heart Diease or No\") +\n",
    "    ggtitle(\"Maximum Heart Rate Achieved vs Age\")\n",
    "\n",
    "heart_disease_var_check"
   ]
  },
  {
   "cell_type": "markdown",
   "metadata": {},
   "source": []
  },
  {
   "cell_type": "markdown",
   "metadata": {},
   "source": [
    "### To visulize the results, we can create a colored prediction map visualizations.\n",
    "   - Create the grid of variables, and arrange in a data frame\n",
    "   - Use the fit workflow to make predictions at the grid points\n",
    "   - bind the predictions as a new column with the grid points\n",
    "   - plot\n",
    "       - the colored scatter of the original data\n",
    "       - the faded colored scatter for the grid points"
   ]
  },
  {
   "cell_type": "markdown",
   "metadata": {},
   "source": [
    "\n",
    "------------------------------------------------------------------------------------------------------------------\n"
   ]
  },
  {
   "cell_type": "markdown",
   "metadata": {},
   "source": [
    "# _4) Expected outcomes and significance:_"
   ]
  },
  {
   "cell_type": "markdown",
   "metadata": {},
   "source": [
    "- Our classification model aims to provide a reliable and automatic diagnosis for the presence of heart disease. We conduct a comprehensive analysis based on real data collection, a history of common symptoms and medical abnormality detection tests. Multiple predictions then are simultaneously and instantly generated by an automatic and technological-based model. This mechanism reduces potential human errors and time consumption in large data tracing and processing. Therefore, the classification model enhances the reliability, objectivity, and efficiency for heart disease screening.\n",
    "\n",
    "- While this model aids the detection of present heart disease, the specific subtypes of patients’ heart disease remain undiagnosed. As there are several types of heat-related illness, future questions could advance the prediction and classification of these subtypes. For example, Coronary Artery Disease (CAD) is one of the most common heart diseases. Which further medical tests should be run and which predictors should be used in CAD diagnosis are the possible questions for data analysts and medical researchers to investigate on.\n"
   ]
  },
  {
   "cell_type": "code",
   "execution_count": null,
   "metadata": {},
   "outputs": [],
   "source": []
  },
  {
   "cell_type": "code",
   "execution_count": null,
   "metadata": {},
   "outputs": [],
   "source": []
  },
  {
   "cell_type": "code",
   "execution_count": null,
   "metadata": {},
   "outputs": [],
   "source": []
  }
 ],
 "metadata": {
  "kernelspec": {
   "display_name": "R",
   "language": "R",
   "name": "ir"
  },
  "language_info": {
   "codemirror_mode": "r",
   "file_extension": ".r",
   "mimetype": "text/x-r-source",
   "name": "R",
   "pygments_lexer": "r",
   "version": "4.0.0"
  }
 },
 "nbformat": 4,
 "nbformat_minor": 4
}
