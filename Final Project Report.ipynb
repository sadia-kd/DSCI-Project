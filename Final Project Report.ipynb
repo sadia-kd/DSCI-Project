{
 "cells": [
  {
   "cell_type": "markdown",
   "metadata": {},
   "source": [
    "### Final Report (Group #36)"
   ]
  },
  {
   "cell_type": "code",
   "execution_count": 321,
   "metadata": {},
   "outputs": [],
   "source": [
    "# Load the packages and set the seed\n",
    "\n",
    "library(tidyverse)\n",
    "library(repr)\n",
    "library(tidymodels)\n",
    "library(dplyr)\n",
    "library(GGally)\n",
    "\n",
    "options(repr.matrix.max.rows = 6)\n",
    "set.seed(999) "
   ]
  },
  {
   "cell_type": "markdown",
   "metadata": {},
   "source": [
    "### _INTRO:_\n"
   ]
  },
  {
   "cell_type": "markdown",
   "metadata": {},
   "source": [
    "**Our Predictive Question :  Can age, resting blood pressure, cholestoral levels, and maximum heart rate achieved accurately predict the diagnosis of heart disease?**"
   ]
  },
  {
   "cell_type": "markdown",
   "metadata": {},
   "source": [
    "Heart disease is an increasingly prevalent condition affecting a multitude of different people globally. Heart disease refers to a multitude of different heart conditions such as coronary artery disease and cardiomyopathy (\"About Heart Disease\", 2022). These debilitating conditions contribute annually to 1 in 4 American deaths every year (2022), making prompt diagnosis and treatment of these conditions of grave importance. Though the onset of these conditions vary, generally there are certain risk factors which can contribute to a heart disease diagnosis. These factors can include high blood pressure, physical inactivity, and high blood cholesterol (2022). Understanding these risk factors and finding individuals who may have them could lead to a more prompt diagnosis of these diseases and thus more effective treatment.\n",
    "\n",
    "Our project aims to investigate if age, resting blood pressure, cholesterol levels and maximum heart rate of an individual can be predictors of a heart disease diagnosis. In understanding the predictive ability of these two variables more reliable diagnosis options can be explored to help patients before the onset of debilitating heart disease. \n",
    "\n",
    "The data set we will use to explore this predictive problem is a compiled heart disease data set from Kaggle.com. This data set contains information on multiple onset heart disease risk factors of individuals admitted to the hospital for acute chest pain with patient data from 4 different global locailites spanning from 1988 onwards. This data set includes information about the age, sex, cheat pain type (from 0-4), the resting blood pressure, serum cholestoral level in the blood, the fasting blood sugar, the maximum heart rate achieved, the presence of exercise induced angina, the number of major vessels (from 0-3). and the diagnosis of the blood disorder thalassemia with 0 as normal, 1 as fixed defect and 2 as reversible defect. Additionally, there is data about results of electrocardiogram tests including the resting electrocardiographic results (values 0-2), the ST depression value and the slope of the ST segment, Lastly, there is data on the presence of heart disease in the patient with 0 indicating no disease and 1 indicating the presence of heart disease. \n"
   ]
  },
  {
   "cell_type": "markdown",
   "metadata": {},
   "source": [
    "### _Methods/Results:_ "
   ]
  },
  {
   "cell_type": "markdown",
   "metadata": {},
   "source": [
    "We will be using the KNN Classification to predict the presence of heart disease\n",
    "\n",
    "**1) Loading our data: Required packages and the dataset and do adjustments to dataset, Set the seed (above) to have consistent randomness**\n",
    "\n",
    "**2) Split the dataset into training/testing data: initial_split() to create the sets**\n",
    "\n",
    "**3) Explore/Visualize the data through scatter plots**\n",
    "\n",
    "**4) Tuning the model: For best K value, tune the model using a 5-fold cross validation method on the training set then plot accuracy vs # of neighbors**\n",
    "\n",
    "**5) K-nearest neighbor classification: Use the highest K found to test our model on the testing set by predicting it**\n",
    "\n",
    "**6) Result analysis: Add the column of predictions to the original test data & create a confusion matrix then Calculate accuracy**\n",
    "\n",
    "**7) Review our model/goal/report**"
   ]
  },
  {
   "cell_type": "code",
   "execution_count": 322,
   "metadata": {},
   "outputs": [
    {
     "name": "stderr",
     "output_type": "stream",
     "text": [
      "Parsed with column specification:\n",
      "cols(\n",
      "  age = \u001b[32mcol_double()\u001b[39m,\n",
      "  sex = \u001b[32mcol_double()\u001b[39m,\n",
      "  cp = \u001b[32mcol_double()\u001b[39m,\n",
      "  trestbps = \u001b[32mcol_double()\u001b[39m,\n",
      "  chol = \u001b[32mcol_double()\u001b[39m,\n",
      "  fbs = \u001b[32mcol_double()\u001b[39m,\n",
      "  restecg = \u001b[32mcol_double()\u001b[39m,\n",
      "  thalach = \u001b[32mcol_double()\u001b[39m,\n",
      "  exang = \u001b[32mcol_double()\u001b[39m,\n",
      "  oldpeak = \u001b[32mcol_double()\u001b[39m,\n",
      "  slope = \u001b[32mcol_double()\u001b[39m,\n",
      "  ca = \u001b[32mcol_double()\u001b[39m,\n",
      "  thal = \u001b[32mcol_double()\u001b[39m,\n",
      "  target = \u001b[32mcol_double()\u001b[39m\n",
      ")\n",
      "\n"
     ]
    },
    {
     "data": {
      "text/html": [
       "<table>\n",
       "<caption>A tibble: 302 × 5</caption>\n",
       "<thead>\n",
       "\t<tr><th scope=col>age</th><th scope=col>trestbps</th><th scope=col>chol</th><th scope=col>thalach</th><th scope=col>target</th></tr>\n",
       "\t<tr><th scope=col>&lt;dbl&gt;</th><th scope=col>&lt;dbl&gt;</th><th scope=col>&lt;dbl&gt;</th><th scope=col>&lt;dbl&gt;</th><th scope=col>&lt;fct&gt;</th></tr>\n",
       "</thead>\n",
       "<tbody>\n",
       "\t<tr><td>52</td><td>125</td><td>212</td><td>168</td><td>0</td></tr>\n",
       "\t<tr><td>53</td><td>140</td><td>203</td><td>155</td><td>0</td></tr>\n",
       "\t<tr><td>70</td><td>145</td><td>174</td><td>125</td><td>0</td></tr>\n",
       "\t<tr><td>⋮</td><td>⋮</td><td>⋮</td><td>⋮</td><td>⋮</td></tr>\n",
       "\t<tr><td>52</td><td>128</td><td>255</td><td>161</td><td>0</td></tr>\n",
       "\t<tr><td>59</td><td>160</td><td>273</td><td>125</td><td>0</td></tr>\n",
       "\t<tr><td>54</td><td>120</td><td>188</td><td>113</td><td>0</td></tr>\n",
       "</tbody>\n",
       "</table>\n"
      ],
      "text/latex": [
       "A tibble: 302 × 5\n",
       "\\begin{tabular}{lllll}\n",
       " age & trestbps & chol & thalach & target\\\\\n",
       " <dbl> & <dbl> & <dbl> & <dbl> & <fct>\\\\\n",
       "\\hline\n",
       "\t 52 & 125 & 212 & 168 & 0\\\\\n",
       "\t 53 & 140 & 203 & 155 & 0\\\\\n",
       "\t 70 & 145 & 174 & 125 & 0\\\\\n",
       "\t ⋮ & ⋮ & ⋮ & ⋮ & ⋮\\\\\n",
       "\t 52 & 128 & 255 & 161 & 0\\\\\n",
       "\t 59 & 160 & 273 & 125 & 0\\\\\n",
       "\t 54 & 120 & 188 & 113 & 0\\\\\n",
       "\\end{tabular}\n"
      ],
      "text/markdown": [
       "\n",
       "A tibble: 302 × 5\n",
       "\n",
       "| age &lt;dbl&gt; | trestbps &lt;dbl&gt; | chol &lt;dbl&gt; | thalach &lt;dbl&gt; | target &lt;fct&gt; |\n",
       "|---|---|---|---|---|\n",
       "| 52 | 125 | 212 | 168 | 0 |\n",
       "| 53 | 140 | 203 | 155 | 0 |\n",
       "| 70 | 145 | 174 | 125 | 0 |\n",
       "| ⋮ | ⋮ | ⋮ | ⋮ | ⋮ |\n",
       "| 52 | 128 | 255 | 161 | 0 |\n",
       "| 59 | 160 | 273 | 125 | 0 |\n",
       "| 54 | 120 | 188 | 113 | 0 |\n",
       "\n"
      ],
      "text/plain": [
       "    age trestbps chol thalach target\n",
       "1   52  125      212  168     0     \n",
       "2   53  140      203  155     0     \n",
       "3   70  145      174  125     0     \n",
       "⋮   ⋮   ⋮        ⋮    ⋮       ⋮     \n",
       "300 52  128      255  161     0     \n",
       "301 59  160      273  125     0     \n",
       "302 54  120      188  113     0     "
      ]
     },
     "metadata": {},
     "output_type": "display_data"
    }
   ],
   "source": [
    "url <- \"https://raw.githubusercontent.com/sadia-kd/DSCI-Project/main/heart.csv\"\n",
    "\n",
    "heart_disease <- read_csv(url) %>%\n",
    "    mutate(target = as_factor(target)) %>%\n",
    "    unique() %>%\n",
    "    select(age, trestbps, chol, thalach, target)\n",
    "\n",
    "heart_disease"
   ]
  },
  {
   "cell_type": "markdown",
   "metadata": {},
   "source": [
    "### Explore The Data"
   ]
  },
  {
   "cell_type": "code",
   "execution_count": 323,
   "metadata": {},
   "outputs": [],
   "source": [
    "# spliting the data intro training set \n",
    "\n",
    "heart_disease_split <- initial_split(heart_disease, prop = 0.75, strata = target)\n",
    "heart_disease_train <- training(heart_disease_split)\n",
    "heart_disease_test <- testing(heart_disease_split) "
   ]
  },
  {
   "cell_type": "code",
   "execution_count": 324,
   "metadata": {},
   "outputs": [
    {
     "name": "stderr",
     "output_type": "stream",
     "text": [
      "`summarise()` ungrouping output (override with `.groups` argument)\n",
      "\n"
     ]
    },
    {
     "data": {
      "text/html": [
       "<table>\n",
       "<caption>A tibble: 2 × 3</caption>\n",
       "<thead>\n",
       "\t<tr><th scope=col>target</th><th scope=col>count</th><th scope=col>percentage</th></tr>\n",
       "\t<tr><th scope=col>&lt;fct&gt;</th><th scope=col>&lt;int&gt;</th><th scope=col>&lt;dbl&gt;</th></tr>\n",
       "</thead>\n",
       "<tbody>\n",
       "\t<tr><td>0</td><td>104</td><td>45.81498</td></tr>\n",
       "\t<tr><td>1</td><td>123</td><td>54.18502</td></tr>\n",
       "</tbody>\n",
       "</table>\n"
      ],
      "text/latex": [
       "A tibble: 2 × 3\n",
       "\\begin{tabular}{lll}\n",
       " target & count & percentage\\\\\n",
       " <fct> & <int> & <dbl>\\\\\n",
       "\\hline\n",
       "\t 0 & 104 & 45.81498\\\\\n",
       "\t 1 & 123 & 54.18502\\\\\n",
       "\\end{tabular}\n"
      ],
      "text/markdown": [
       "\n",
       "A tibble: 2 × 3\n",
       "\n",
       "| target &lt;fct&gt; | count &lt;int&gt; | percentage &lt;dbl&gt; |\n",
       "|---|---|---|\n",
       "| 0 | 104 | 45.81498 |\n",
       "| 1 | 123 | 54.18502 |\n",
       "\n"
      ],
      "text/plain": [
       "  target count percentage\n",
       "1 0      104   45.81498  \n",
       "2 1      123   54.18502  "
      ]
     },
     "metadata": {},
     "output_type": "display_data"
    }
   ],
   "source": [
    "# Summarize the training DATA \n",
    "\n",
    "obs <- nrow(heart_disease_train)\n",
    "\n",
    "data_count <- heart_disease_train %>%\n",
    "    group_by(target) %>%\n",
    "    summarize(count = n(), percentage = n()/obs * 100)\n",
    "\n",
    "data_count"
   ]
  },
  {
   "cell_type": "code",
   "execution_count": 325,
   "metadata": {},
   "outputs": [
    {
     "data": {
      "text/html": [
       "0"
      ],
      "text/latex": [
       "0"
      ],
      "text/markdown": [
       "0"
      ],
      "text/plain": [
       "[1] 0"
      ]
     },
     "metadata": {},
     "output_type": "display_data"
    }
   ],
   "source": [
    "sum(is.na(heart_disease_train))"
   ]
  },
  {
   "cell_type": "code",
   "execution_count": 326,
   "metadata": {},
   "outputs": [
    {
     "data": {
      "text/plain": [
       "      age          trestbps        chol          thalach      target \n",
       " Min.   :29.0   Min.   : 94   Min.   :131.0   Min.   : 71.0   0:104  \n",
       " 1st Qu.:48.0   1st Qu.:120   1st Qu.:211.5   1st Qu.:133.0   1:123  \n",
       " Median :56.0   Median :130   Median :244.0   Median :153.0          \n",
       " Mean   :54.7   Mean   :132   Mean   :249.1   Mean   :150.0          \n",
       " 3rd Qu.:61.0   3rd Qu.:140   3rd Qu.:279.5   3rd Qu.:166.5          \n",
       " Max.   :77.0   Max.   :200   Max.   :564.0   Max.   :202.0          "
      ]
     },
     "metadata": {},
     "output_type": "display_data"
    }
   ],
   "source": [
    "summary(heart_disease_train)"
   ]
  },
  {
   "cell_type": "markdown",
   "metadata": {},
   "source": [
    "### Visualization below here ..."
   ]
  },
  {
   "cell_type": "markdown",
   "metadata": {},
   "source": [
    "### _Performing the Analsyis_"
   ]
  },
  {
   "cell_type": "code",
   "execution_count": 327,
   "metadata": {},
   "outputs": [],
   "source": [
    "# Set the seed. Don't remove this!\n",
    "set.seed(999) \n",
    "\n",
    "# We have already selected the specific columns we will need ONLY in the beginning when loading the data\n",
    "\n",
    "# Begin with creating the model (tuning it), Preprocessing the data \n",
    "\n",
    "heart_spec <- nearest_neighbor(weight_func = \"rectangular\", neighbors = tune()) %>%\n",
    "        set_engine(\"kknn\") %>%\n",
    "        set_mode(\"classification\")\n",
    "\n",
    "heart_recipe <- recipe(target ~. , data = heart_disease_train) %>%\n",
    "        step_scale(all_predictors()) %>%\n",
    "        step_center(all_predictors())"
   ]
  },
  {
   "cell_type": "code",
   "execution_count": 328,
   "metadata": {},
   "outputs": [],
   "source": [
    "# Set the seed. Don't remove this!\n",
    "set.seed(999)\n",
    "\n",
    "# Create the 5-fold cross-validation on the training set\n",
    "\n",
    "vfold <- vfold_cv(heart_disease_train, v = 5, strata = target)\n",
    "\n",
    "# Create a data frame with a neighbors variable that contains the sequence of values of K to try. \n",
    "# Containing values from 1 to 100 (stepping by 5)\n",
    "\n",
    "k_vals <- tibble(neighbors = seq(from = 1, to = 100, by = 5))"
   ]
  },
  {
   "cell_type": "code",
   "execution_count": 329,
   "metadata": {},
   "outputs": [
    {
     "data": {
      "text/html": [
       "<table>\n",
       "<caption>A tibble: 40 × 7</caption>\n",
       "<thead>\n",
       "\t<tr><th scope=col>neighbors</th><th scope=col>.metric</th><th scope=col>.estimator</th><th scope=col>mean</th><th scope=col>n</th><th scope=col>std_err</th><th scope=col>.config</th></tr>\n",
       "\t<tr><th scope=col>&lt;dbl&gt;</th><th scope=col>&lt;chr&gt;</th><th scope=col>&lt;chr&gt;</th><th scope=col>&lt;dbl&gt;</th><th scope=col>&lt;int&gt;</th><th scope=col>&lt;dbl&gt;</th><th scope=col>&lt;chr&gt;</th></tr>\n",
       "</thead>\n",
       "<tbody>\n",
       "\t<tr><td>1</td><td>accuracy</td><td>binary</td><td>0.5550856</td><td>5</td><td>0.01824251</td><td>Model01</td></tr>\n",
       "\t<tr><td>1</td><td>roc_auc </td><td>binary</td><td>0.5515238</td><td>5</td><td>0.01510068</td><td>Model01</td></tr>\n",
       "\t<tr><td>6</td><td>accuracy</td><td>binary</td><td>0.6126921</td><td>5</td><td>0.02337355</td><td>Model02</td></tr>\n",
       "\t<tr><td>⋮</td><td>⋮</td><td>⋮</td><td>⋮</td><td>⋮</td><td>⋮</td><td>⋮</td></tr>\n",
       "\t<tr><td>91</td><td>roc_auc </td><td>binary</td><td>0.7263929</td><td>5</td><td>0.01963163</td><td>Model19</td></tr>\n",
       "\t<tr><td>96</td><td>accuracy</td><td>binary</td><td>0.6566623</td><td>5</td><td>0.02852401</td><td>Model20</td></tr>\n",
       "\t<tr><td>96</td><td>roc_auc </td><td>binary</td><td>0.7237421</td><td>5</td><td>0.01811828</td><td>Model20</td></tr>\n",
       "</tbody>\n",
       "</table>\n"
      ],
      "text/latex": [
       "A tibble: 40 × 7\n",
       "\\begin{tabular}{lllllll}\n",
       " neighbors & .metric & .estimator & mean & n & std\\_err & .config\\\\\n",
       " <dbl> & <chr> & <chr> & <dbl> & <int> & <dbl> & <chr>\\\\\n",
       "\\hline\n",
       "\t 1 & accuracy & binary & 0.5550856 & 5 & 0.01824251 & Model01\\\\\n",
       "\t 1 & roc\\_auc  & binary & 0.5515238 & 5 & 0.01510068 & Model01\\\\\n",
       "\t 6 & accuracy & binary & 0.6126921 & 5 & 0.02337355 & Model02\\\\\n",
       "\t ⋮ & ⋮ & ⋮ & ⋮ & ⋮ & ⋮ & ⋮\\\\\n",
       "\t 91 & roc\\_auc  & binary & 0.7263929 & 5 & 0.01963163 & Model19\\\\\n",
       "\t 96 & accuracy & binary & 0.6566623 & 5 & 0.02852401 & Model20\\\\\n",
       "\t 96 & roc\\_auc  & binary & 0.7237421 & 5 & 0.01811828 & Model20\\\\\n",
       "\\end{tabular}\n"
      ],
      "text/markdown": [
       "\n",
       "A tibble: 40 × 7\n",
       "\n",
       "| neighbors &lt;dbl&gt; | .metric &lt;chr&gt; | .estimator &lt;chr&gt; | mean &lt;dbl&gt; | n &lt;int&gt; | std_err &lt;dbl&gt; | .config &lt;chr&gt; |\n",
       "|---|---|---|---|---|---|---|\n",
       "| 1 | accuracy | binary | 0.5550856 | 5 | 0.01824251 | Model01 |\n",
       "| 1 | roc_auc  | binary | 0.5515238 | 5 | 0.01510068 | Model01 |\n",
       "| 6 | accuracy | binary | 0.6126921 | 5 | 0.02337355 | Model02 |\n",
       "| ⋮ | ⋮ | ⋮ | ⋮ | ⋮ | ⋮ | ⋮ |\n",
       "| 91 | roc_auc  | binary | 0.7263929 | 5 | 0.01963163 | Model19 |\n",
       "| 96 | accuracy | binary | 0.6566623 | 5 | 0.02852401 | Model20 |\n",
       "| 96 | roc_auc  | binary | 0.7237421 | 5 | 0.01811828 | Model20 |\n",
       "\n"
      ],
      "text/plain": [
       "   neighbors .metric  .estimator mean      n std_err    .config\n",
       "1  1         accuracy binary     0.5550856 5 0.01824251 Model01\n",
       "2  1         roc_auc  binary     0.5515238 5 0.01510068 Model01\n",
       "3  6         accuracy binary     0.6126921 5 0.02337355 Model02\n",
       "⋮  ⋮         ⋮        ⋮          ⋮         ⋮ ⋮          ⋮      \n",
       "38 91        roc_auc  binary     0.7263929 5 0.01963163 Model19\n",
       "39 96        accuracy binary     0.6566623 5 0.02852401 Model20\n",
       "40 96        roc_auc  binary     0.7237421 5 0.01811828 Model20"
      ]
     },
     "metadata": {},
     "output_type": "display_data"
    }
   ],
   "source": [
    "# Set the seed. Don't remove this!\n",
    "set.seed(999)\n",
    "\n",
    "# Putting it in a workflow\n",
    "\n",
    "heart_disease_workflow <- workflow() %>%\n",
    "        add_recipe(heart_recipe) %>%\n",
    "        add_model(heart_spec) %>%\n",
    "        tune_grid(resamples = vfold, grid = k_vals) %>%\n",
    "        collect_metrics()\n",
    "heart_disease_workflow"
   ]
  },
  {
   "cell_type": "code",
   "execution_count": 330,
   "metadata": {},
   "outputs": [
    {
     "data": {
      "image/png": "[encoded data removed]",
      "text/plain": [
       "plot without title"
      ]
     },
     "metadata": {
      "image/png": {
       "height": 420,
       "width": 420
      }
     },
     "output_type": "display_data"
    }
   ],
   "source": [
    "# Plot the 𝑘 vs the accuracy to determine which number of neighbors is best\n",
    "\n",
    "accuracies <- heart_disease_workflow %>% \n",
    "        filter(.metric == \"accuracy\") \n",
    "\n",
    "accuracy_vs_k <- ggplot(accuracies, aes(x = neighbors, y = mean)) +\n",
    "        geom_point() +\n",
    "        geom_line() +\n",
    "        labs(x = \"Neighbors\", y = \"Accuracy Estimate\") +\n",
    "        theme(text = element_text(size = 12)) +\n",
    "        ggtitle(\"The accuracy vs. k\")\n",
    "\n",
    "accuracy_vs_k"
   ]
  },
  {
   "cell_type": "code",
   "execution_count": 331,
   "metadata": {},
   "outputs": [
    {
     "data": {
      "text/html": [
       "56"
      ],
      "text/latex": [
       "56"
      ],
      "text/markdown": [
       "56"
      ],
      "text/plain": [
       "[1] 56"
      ]
     },
     "metadata": {},
     "output_type": "display_data"
    }
   ],
   "source": [
    "# Find the # Neighbors through data\n",
    "\n",
    "k_accurate <- heart_disease_workflow %>% \n",
    "        filter(.metric == \"accuracy\") %>%\n",
    "        arrange(mean) %>%\n",
    "        tail(1) %>%\n",
    "        pull(neighbors)\n",
    "\n",
    "k_accurate"
   ]
  },
  {
   "cell_type": "markdown",
   "metadata": {},
   "source": [
    "**The k-value which we found that provide the highest accurate model is 56, we will now use this and re-do our knn classification to predict our test set**"
   ]
  },
  {
   "cell_type": "markdown",
   "metadata": {},
   "source": [
    "#### Build Our Model"
   ]
  },
  {
   "cell_type": "code",
   "execution_count": 332,
   "metadata": {},
   "outputs": [
    {
     "data": {
      "text/plain": [
       "══ Workflow [trained] ══════════════════════════════════════════════════════════\n",
       "\u001b[3mPreprocessor:\u001b[23m Recipe\n",
       "\u001b[3mModel:\u001b[23m nearest_neighbor()\n",
       "\n",
       "── Preprocessor ────────────────────────────────────────────────────────────────\n",
       "2 Recipe Steps\n",
       "\n",
       "● step_scale()\n",
       "● step_center()\n",
       "\n",
       "── Model ───────────────────────────────────────────────────────────────────────\n",
       "\n",
       "Call:\n",
       "kknn::train.kknn(formula = ..y ~ ., data = data, ks = ~56, kernel = ~\"rectangular\")\n",
       "\n",
       "Type of response variable: nominal\n",
       "Minimal misclassification: 0.339207\n",
       "Best kernel: rectangular\n",
       "Best k: 56"
      ]
     },
     "metadata": {},
     "output_type": "display_data"
    }
   ],
   "source": [
    "# Set the seed. Don't remove this!\n",
    "set.seed(999)\n",
    "\n",
    "# use neighbors = 31\n",
    "# create new model\n",
    "# use the same recipe\n",
    "\n",
    "best_spec <- nearest_neighbor(weight_func = \"rectangular\", neighbors = 56) %>%\n",
    "        set_engine(\"kknn\") %>%\n",
    "        set_mode(\"classification\")\n",
    "\n",
    "Knn_fit <- workflow() %>%\n",
    "        add_recipe(heart_recipe) %>%\n",
    "        add_model(best_spec)%>%\n",
    "        fit(data = heart_disease_train)\n",
    "\n",
    "Knn_fit"
   ]
  },
  {
   "cell_type": "markdown",
   "metadata": {},
   "source": [
    "##### Predit the heart_disease_test set now"
   ]
  },
  {
   "cell_type": "code",
   "execution_count": 333,
   "metadata": {},
   "outputs": [
    {
     "data": {
      "text/html": [
       "<table>\n",
       "<caption>A tibble: 1 × 3</caption>\n",
       "<thead>\n",
       "\t<tr><th scope=col>.metric</th><th scope=col>.estimator</th><th scope=col>.estimate</th></tr>\n",
       "\t<tr><th scope=col>&lt;chr&gt;</th><th scope=col>&lt;chr&gt;</th><th scope=col>&lt;dbl&gt;</th></tr>\n",
       "</thead>\n",
       "<tbody>\n",
       "\t<tr><td>accuracy</td><td>binary</td><td>0.6933333</td></tr>\n",
       "</tbody>\n",
       "</table>\n"
      ],
      "text/latex": [
       "A tibble: 1 × 3\n",
       "\\begin{tabular}{lll}\n",
       " .metric & .estimator & .estimate\\\\\n",
       " <chr> & <chr> & <dbl>\\\\\n",
       "\\hline\n",
       "\t accuracy & binary & 0.6933333\\\\\n",
       "\\end{tabular}\n"
      ],
      "text/markdown": [
       "\n",
       "A tibble: 1 × 3\n",
       "\n",
       "| .metric &lt;chr&gt; | .estimator &lt;chr&gt; | .estimate &lt;dbl&gt; |\n",
       "|---|---|---|\n",
       "| accuracy | binary | 0.6933333 |\n",
       "\n"
      ],
      "text/plain": [
       "  .metric  .estimator .estimate\n",
       "1 accuracy binary     0.6933333"
      ]
     },
     "metadata": {},
     "output_type": "display_data"
    }
   ],
   "source": [
    "data_predicted <- predict(Knn_fit, heart_disease_test) %>%\n",
    "        bind_cols(heart_disease_test) %>%\n",
    "        metrics(truth = target, estimate = .pred_class) %>%\n",
    "        filter(.metric == \"accuracy\")\n",
    "\n",
    "data_predicted"
   ]
  },
  {
   "cell_type": "code",
   "execution_count": null,
   "metadata": {},
   "outputs": [],
   "source": []
  }
 ],
 "metadata": {
  "kernelspec": {
   "display_name": "R",
   "language": "R",
   "name": "ir"
  },
  "language_info": {
   "codemirror_mode": "r",
   "file_extension": ".r",
   "mimetype": "text/x-r-source",
   "name": "R",
   "pygments_lexer": "r",
   "version": "4.0.0"
  }
 },
 "nbformat": 4,
 "nbformat_minor": 4
}
