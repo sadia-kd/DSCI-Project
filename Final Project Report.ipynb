{
 "cells": [
  {
   "cell_type": "markdown",
   "metadata": {},
   "source": [
    "### Final Report (Group #36)"
   ]
  },
  {
   "cell_type": "code",
   "execution_count": 1,
   "metadata": {},
   "outputs": [
    {
     "name": "stderr",
     "output_type": "stream",
     "text": [
      "── \u001b[1mAttaching packages\u001b[22m ─────────────────────────────────────── tidyverse 1.3.0 ──\n",
      "\n",
      "\u001b[32m✔\u001b[39m \u001b[34mggplot2\u001b[39m 3.3.2     \u001b[32m✔\u001b[39m \u001b[34mpurrr  \u001b[39m 0.3.4\n",
      "\u001b[32m✔\u001b[39m \u001b[34mtibble \u001b[39m 3.0.3     \u001b[32m✔\u001b[39m \u001b[34mdplyr  \u001b[39m 1.0.2\n",
      "\u001b[32m✔\u001b[39m \u001b[34mtidyr  \u001b[39m 1.1.2     \u001b[32m✔\u001b[39m \u001b[34mstringr\u001b[39m 1.4.0\n",
      "\u001b[32m✔\u001b[39m \u001b[34mreadr  \u001b[39m 1.3.1     \u001b[32m✔\u001b[39m \u001b[34mforcats\u001b[39m 0.5.0\n",
      "\n",
      "Warning message:\n",
      "“package ‘ggplot2’ was built under R version 4.0.1”\n",
      "Warning message:\n",
      "“package ‘tibble’ was built under R version 4.0.2”\n",
      "Warning message:\n",
      "“package ‘tidyr’ was built under R version 4.0.2”\n",
      "Warning message:\n",
      "“package ‘dplyr’ was built under R version 4.0.2”\n",
      "── \u001b[1mConflicts\u001b[22m ────────────────────────────────────────── tidyverse_conflicts() ──\n",
      "\u001b[31m✖\u001b[39m \u001b[34mdplyr\u001b[39m::\u001b[32mfilter()\u001b[39m masks \u001b[34mstats\u001b[39m::filter()\n",
      "\u001b[31m✖\u001b[39m \u001b[34mdplyr\u001b[39m::\u001b[32mlag()\u001b[39m    masks \u001b[34mstats\u001b[39m::lag()\n",
      "\n",
      "Warning message:\n",
      "“package ‘tidymodels’ was built under R version 4.0.2”\n",
      "── \u001b[1mAttaching packages\u001b[22m ────────────────────────────────────── tidymodels 0.1.1 ──\n",
      "\n",
      "\u001b[32m✔\u001b[39m \u001b[34mbroom    \u001b[39m 0.7.0      \u001b[32m✔\u001b[39m \u001b[34mrecipes  \u001b[39m 0.1.13\n",
      "\u001b[32m✔\u001b[39m \u001b[34mdials    \u001b[39m 0.0.9      \u001b[32m✔\u001b[39m \u001b[34mrsample  \u001b[39m 0.0.7 \n",
      "\u001b[32m✔\u001b[39m \u001b[34minfer    \u001b[39m 0.5.4      \u001b[32m✔\u001b[39m \u001b[34mtune     \u001b[39m 0.1.1 \n",
      "\u001b[32m✔\u001b[39m \u001b[34mmodeldata\u001b[39m 0.0.2      \u001b[32m✔\u001b[39m \u001b[34mworkflows\u001b[39m 0.2.0 \n",
      "\u001b[32m✔\u001b[39m \u001b[34mparsnip  \u001b[39m 0.1.3      \u001b[32m✔\u001b[39m \u001b[34myardstick\u001b[39m 0.0.7 \n",
      "\n",
      "Warning message:\n",
      "“package ‘broom’ was built under R version 4.0.2”\n",
      "Warning message:\n",
      "“package ‘dials’ was built under R version 4.0.2”\n",
      "Warning message:\n",
      "“package ‘infer’ was built under R version 4.0.3”\n",
      "Warning message:\n",
      "“package ‘modeldata’ was built under R version 4.0.1”\n",
      "Warning message:\n",
      "“package ‘parsnip’ was built under R version 4.0.2”\n",
      "Warning message:\n",
      "“package ‘recipes’ was built under R version 4.0.1”\n",
      "Warning message:\n",
      "“package ‘tune’ was built under R version 4.0.2”\n",
      "Warning message:\n",
      "“package ‘workflows’ was built under R version 4.0.2”\n",
      "Warning message:\n",
      "“package ‘yardstick’ was built under R version 4.0.2”\n",
      "── \u001b[1mConflicts\u001b[22m ───────────────────────────────────────── tidymodels_conflicts() ──\n",
      "\u001b[31m✖\u001b[39m \u001b[34mscales\u001b[39m::\u001b[32mdiscard()\u001b[39m masks \u001b[34mpurrr\u001b[39m::discard()\n",
      "\u001b[31m✖\u001b[39m \u001b[34mdplyr\u001b[39m::\u001b[32mfilter()\u001b[39m   masks \u001b[34mstats\u001b[39m::filter()\n",
      "\u001b[31m✖\u001b[39m \u001b[34mrecipes\u001b[39m::\u001b[32mfixed()\u001b[39m  masks \u001b[34mstringr\u001b[39m::fixed()\n",
      "\u001b[31m✖\u001b[39m \u001b[34mdplyr\u001b[39m::\u001b[32mlag()\u001b[39m      masks \u001b[34mstats\u001b[39m::lag()\n",
      "\u001b[31m✖\u001b[39m \u001b[34myardstick\u001b[39m::\u001b[32mspec()\u001b[39m masks \u001b[34mreadr\u001b[39m::spec()\n",
      "\u001b[31m✖\u001b[39m \u001b[34mrecipes\u001b[39m::\u001b[32mstep()\u001b[39m   masks \u001b[34mstats\u001b[39m::step()\n",
      "\n",
      "Registered S3 method overwritten by 'GGally':\n",
      "  method from   \n",
      "  +.gg   ggplot2\n",
      "\n",
      "\n",
      "Attaching package: ‘gridExtra’\n",
      "\n",
      "\n",
      "The following object is masked from ‘package:dplyr’:\n",
      "\n",
      "    combine\n",
      "\n",
      "\n"
     ]
    }
   ],
   "source": [
    "# Load the packages and set the seed\n",
    "\n",
    "library(tidyverse)\n",
    "library(repr)\n",
    "library(tidymodels)\n",
    "library(dplyr)\n",
    "library(GGally)\n",
    "library(gtable)\n",
    "library(grid)\n",
    "library(gridExtra)\n",
    "\n",
    "options(repr.matrix.max.rows = 6)\n",
    "set.seed(2022)"
   ]
  },
  {
   "cell_type": "markdown",
   "metadata": {},
   "source": [
    "### INTRO:\n"
   ]
  },
  {
   "cell_type": "code",
   "execution_count": 2,
   "metadata": {},
   "outputs": [
    {
     "name": "stderr",
     "output_type": "stream",
     "text": [
      "Parsed with column specification:\n",
      "cols(\n",
      "  age = \u001b[32mcol_double()\u001b[39m,\n",
      "  sex = \u001b[32mcol_double()\u001b[39m,\n",
      "  cp = \u001b[32mcol_double()\u001b[39m,\n",
      "  trestbps = \u001b[32mcol_double()\u001b[39m,\n",
      "  chol = \u001b[32mcol_double()\u001b[39m,\n",
      "  fbs = \u001b[32mcol_double()\u001b[39m,\n",
      "  restecg = \u001b[32mcol_double()\u001b[39m,\n",
      "  thalach = \u001b[32mcol_double()\u001b[39m,\n",
      "  exang = \u001b[32mcol_double()\u001b[39m,\n",
      "  oldpeak = \u001b[32mcol_double()\u001b[39m,\n",
      "  slope = \u001b[32mcol_double()\u001b[39m,\n",
      "  ca = \u001b[32mcol_double()\u001b[39m,\n",
      "  thal = \u001b[32mcol_double()\u001b[39m,\n",
      "  target = \u001b[32mcol_double()\u001b[39m\n",
      ")\n",
      "\n"
     ]
    },
    {
     "data": {
      "text/html": [
       "<table>\n",
       "<caption>A tibble: 302 × 14</caption>\n",
       "<thead>\n",
       "\t<tr><th scope=col>age</th><th scope=col>sex</th><th scope=col>cp</th><th scope=col>trestbps</th><th scope=col>chol</th><th scope=col>fbs</th><th scope=col>restecg</th><th scope=col>thalach</th><th scope=col>exang</th><th scope=col>oldpeak</th><th scope=col>slope</th><th scope=col>ca</th><th scope=col>thal</th><th scope=col>target</th></tr>\n",
       "\t<tr><th scope=col>&lt;dbl&gt;</th><th scope=col>&lt;dbl&gt;</th><th scope=col>&lt;dbl&gt;</th><th scope=col>&lt;dbl&gt;</th><th scope=col>&lt;dbl&gt;</th><th scope=col>&lt;dbl&gt;</th><th scope=col>&lt;dbl&gt;</th><th scope=col>&lt;dbl&gt;</th><th scope=col>&lt;dbl&gt;</th><th scope=col>&lt;dbl&gt;</th><th scope=col>&lt;dbl&gt;</th><th scope=col>&lt;dbl&gt;</th><th scope=col>&lt;dbl&gt;</th><th scope=col>&lt;fct&gt;</th></tr>\n",
       "</thead>\n",
       "<tbody>\n",
       "\t<tr><td>52</td><td>1</td><td>0</td><td>125</td><td>212</td><td>0</td><td>1</td><td>168</td><td>0</td><td>1.0</td><td>2</td><td>2</td><td>3</td><td>0</td></tr>\n",
       "\t<tr><td>53</td><td>1</td><td>0</td><td>140</td><td>203</td><td>1</td><td>0</td><td>155</td><td>1</td><td>3.1</td><td>0</td><td>0</td><td>3</td><td>0</td></tr>\n",
       "\t<tr><td>70</td><td>1</td><td>0</td><td>145</td><td>174</td><td>0</td><td>1</td><td>125</td><td>1</td><td>2.6</td><td>0</td><td>0</td><td>3</td><td>0</td></tr>\n",
       "\t<tr><td>⋮</td><td>⋮</td><td>⋮</td><td>⋮</td><td>⋮</td><td>⋮</td><td>⋮</td><td>⋮</td><td>⋮</td><td>⋮</td><td>⋮</td><td>⋮</td><td>⋮</td><td>⋮</td></tr>\n",
       "\t<tr><td>52</td><td>1</td><td>0</td><td>128</td><td>255</td><td>0</td><td>1</td><td>161</td><td>1</td><td>0.0</td><td>2</td><td>1</td><td>3</td><td>0</td></tr>\n",
       "\t<tr><td>59</td><td>1</td><td>3</td><td>160</td><td>273</td><td>0</td><td>0</td><td>125</td><td>0</td><td>0.0</td><td>2</td><td>0</td><td>2</td><td>0</td></tr>\n",
       "\t<tr><td>54</td><td>1</td><td>0</td><td>120</td><td>188</td><td>0</td><td>1</td><td>113</td><td>0</td><td>1.4</td><td>1</td><td>1</td><td>3</td><td>0</td></tr>\n",
       "</tbody>\n",
       "</table>\n"
      ],
      "text/latex": [
       "A tibble: 302 × 14\n",
       "\\begin{tabular}{llllllllllllll}\n",
       " age & sex & cp & trestbps & chol & fbs & restecg & thalach & exang & oldpeak & slope & ca & thal & target\\\\\n",
       " <dbl> & <dbl> & <dbl> & <dbl> & <dbl> & <dbl> & <dbl> & <dbl> & <dbl> & <dbl> & <dbl> & <dbl> & <dbl> & <fct>\\\\\n",
       "\\hline\n",
       "\t 52 & 1 & 0 & 125 & 212 & 0 & 1 & 168 & 0 & 1.0 & 2 & 2 & 3 & 0\\\\\n",
       "\t 53 & 1 & 0 & 140 & 203 & 1 & 0 & 155 & 1 & 3.1 & 0 & 0 & 3 & 0\\\\\n",
       "\t 70 & 1 & 0 & 145 & 174 & 0 & 1 & 125 & 1 & 2.6 & 0 & 0 & 3 & 0\\\\\n",
       "\t ⋮ & ⋮ & ⋮ & ⋮ & ⋮ & ⋮ & ⋮ & ⋮ & ⋮ & ⋮ & ⋮ & ⋮ & ⋮ & ⋮\\\\\n",
       "\t 52 & 1 & 0 & 128 & 255 & 0 & 1 & 161 & 1 & 0.0 & 2 & 1 & 3 & 0\\\\\n",
       "\t 59 & 1 & 3 & 160 & 273 & 0 & 0 & 125 & 0 & 0.0 & 2 & 0 & 2 & 0\\\\\n",
       "\t 54 & 1 & 0 & 120 & 188 & 0 & 1 & 113 & 0 & 1.4 & 1 & 1 & 3 & 0\\\\\n",
       "\\end{tabular}\n"
      ],
      "text/markdown": [
       "\n",
       "A tibble: 302 × 14\n",
       "\n",
       "| age &lt;dbl&gt; | sex &lt;dbl&gt; | cp &lt;dbl&gt; | trestbps &lt;dbl&gt; | chol &lt;dbl&gt; | fbs &lt;dbl&gt; | restecg &lt;dbl&gt; | thalach &lt;dbl&gt; | exang &lt;dbl&gt; | oldpeak &lt;dbl&gt; | slope &lt;dbl&gt; | ca &lt;dbl&gt; | thal &lt;dbl&gt; | target &lt;fct&gt; |\n",
       "|---|---|---|---|---|---|---|---|---|---|---|---|---|---|\n",
       "| 52 | 1 | 0 | 125 | 212 | 0 | 1 | 168 | 0 | 1.0 | 2 | 2 | 3 | 0 |\n",
       "| 53 | 1 | 0 | 140 | 203 | 1 | 0 | 155 | 1 | 3.1 | 0 | 0 | 3 | 0 |\n",
       "| 70 | 1 | 0 | 145 | 174 | 0 | 1 | 125 | 1 | 2.6 | 0 | 0 | 3 | 0 |\n",
       "| ⋮ | ⋮ | ⋮ | ⋮ | ⋮ | ⋮ | ⋮ | ⋮ | ⋮ | ⋮ | ⋮ | ⋮ | ⋮ | ⋮ |\n",
       "| 52 | 1 | 0 | 128 | 255 | 0 | 1 | 161 | 1 | 0.0 | 2 | 1 | 3 | 0 |\n",
       "| 59 | 1 | 3 | 160 | 273 | 0 | 0 | 125 | 0 | 0.0 | 2 | 0 | 2 | 0 |\n",
       "| 54 | 1 | 0 | 120 | 188 | 0 | 1 | 113 | 0 | 1.4 | 1 | 1 | 3 | 0 |\n",
       "\n"
      ],
      "text/plain": [
       "    age sex cp trestbps chol fbs restecg thalach exang oldpeak slope ca thal\n",
       "1   52  1   0  125      212  0   1       168     0     1.0     2     2  3   \n",
       "2   53  1   0  140      203  1   0       155     1     3.1     0     0  3   \n",
       "3   70  1   0  145      174  0   1       125     1     2.6     0     0  3   \n",
       "⋮   ⋮   ⋮   ⋮  ⋮        ⋮    ⋮   ⋮       ⋮       ⋮     ⋮       ⋮     ⋮  ⋮   \n",
       "300 52  1   0  128      255  0   1       161     1     0.0     2     1  3   \n",
       "301 59  1   3  160      273  0   0       125     0     0.0     2     0  2   \n",
       "302 54  1   0  120      188  0   1       113     0     1.4     1     1  3   \n",
       "    target\n",
       "1   0     \n",
       "2   0     \n",
       "3   0     \n",
       "⋮   ⋮     \n",
       "300 0     \n",
       "301 0     \n",
       "302 0     "
      ]
     },
     "metadata": {},
     "output_type": "display_data"
    }
   ],
   "source": [
    "url <- \"https://raw.githubusercontent.com/sadia-kd/DSCI-Project/main/heart.csv\"\n",
    "\n",
    "heart_disease <- read_csv(url) %>%\n",
    "    mutate(target = as_factor(target)) %>%\n",
    "    unique()\n",
    "\n",
    "heart_disease"
   ]
  },
  {
   "cell_type": "markdown",
   "metadata": {},
   "source": [
    "## _Performing the Analsyis_"
   ]
  },
  {
   "cell_type": "markdown",
   "metadata": {},
   "source": [
    "# Final work start here"
   ]
  },
  {
   "cell_type": "markdown",
   "metadata": {},
   "source": [
    "# split data"
   ]
  },
  {
   "cell_type": "code",
   "execution_count": 4,
   "metadata": {},
   "outputs": [],
   "source": [
    "# spliting the data into training/testing sets, remove unwanted variables\n",
    "set.seed(2022)\n",
    "selected_heart_disease = heart_disease %>%\n",
    "    select(age,trestbps,thalach,chol,target)\n",
    "\n",
    "heart_disease_split <- initial_split(selected_heart_disease, prop = 0.75, strata = target)\n",
    "heart_disease_train <- training(heart_disease_split)\n",
    "heart_disease_test <- testing(heart_disease_split)"
   ]
  },
  {
   "cell_type": "markdown",
   "metadata": {},
   "source": [
    "# Evaluate accuracy for all 6 cases ( Combination of each two variables)"
   ]
  },
  {
   "cell_type": "markdown",
   "metadata": {},
   "source": [
    "### variable selection method referred to as best subset selection (Beale, Kendall, and Mann 1967; Hocking and Leslie 1967). -  textbook chapter 6.8\n",
    "Create a separate model for every possible subset of predictors, tune each one using cross-validation, and pick the subset of predictors that gives you the highest cross-validation accuracy.\n",
    "\n",
    "For the best visualization, we only pick two variables out of four. Total is 6 cases which is C(4 ,2)."
   ]
  },
  {
   "cell_type": "code",
   "execution_count": 5,
   "metadata": {},
   "outputs": [],
   "source": [
    "# age:1  trestbps:2 chol:3 thalach:4\n",
    "predictors = c(\"age\",\"trestbps\",\"chol\",\"thalach\")"
   ]
  },
  {
   "cell_type": "code",
   "execution_count": 16,
   "metadata": {},
   "outputs": [],
   "source": [
    "#Create plots to visualizae finding the best K value\n",
    "\n",
    "get_k_accuracy_plot = function(predIndex1, predIndex2){\n",
    "        #set seed\n",
    "        set.seed(2022)\n",
    "        \n",
    "        #create formula\n",
    "        formula = paste(\"target\", \"~\", paste(predictors[predIndex1],sep = \"+\", predictors[predIndex2]))\n",
    "        \n",
    "        # tune spec for all cases\n",
    "        knn_tune = nearest_neighbor(weight_func = \"rectangular\", neighbors = tune()) %>%\n",
    "                      set_engine(\"kknn\") %>%\n",
    "                      set_mode(\"classification\")\n",
    "    \n",
    "        # create function for creating recipe\n",
    "        heart_recipe = recipe(as.formula(formula),data = heart_disease_train) %>%\n",
    "                        step_scale(all_predictors()) %>%\n",
    "                        step_center(all_predictors())\n",
    "    \n",
    "        \n",
    "        # Create the 5-fold cross-validation on the training set\n",
    "        vfold = vfold_cv(heart_disease_train, v = 5, strata = target)\n",
    "\n",
    "        # Create a data frame with a neighbors variable that contains the sequence of values of K to try. \n",
    "        # Containing values from 1 to 20\n",
    "        k_vals = tibble(neighbors = seq(from = 1, to = 20))\n",
    "        \n",
    "        # Get accuracy from different k\n",
    "        knn_results = workflow() %>%\n",
    "                       add_recipe(heart_recipe) %>%\n",
    "                       add_model(knn_tune) %>%\n",
    "                       tune_grid(resamples = vfold, grid = 20) %>%\n",
    "                       collect_metrics()\n",
    "\n",
    "        accuracies = knn_results %>%\n",
    "                      filter(.metric == \"accuracy\")\n",
    "\n",
    "        plot_title = paste(\"Neighbors vs accuracy estimate for k values: \", paste(predictors[predIndex1],sep = \" and \", predictors[predIndex2]))    \n",
    "    \n",
    "        accuracy_versus_k = ggplot(accuracies, aes(x = neighbors, y = mean)) +\n",
    "                             geom_point() +\n",
    "                             geom_line() +\n",
    "                             xlim(0,20) +\n",
    "                             labs(x = \"Neighbors\", y = \"Accuracy Estimate\", title = plot_title) +\n",
    "                             theme(text = element_text(size = 10)) \n",
    "        \n",
    "    }"
   ]
  },
  {
   "cell_type": "code",
   "execution_count": 17,
   "metadata": {},
   "outputs": [],
   "source": [
    "# case1: age vs trestbps\n",
    "k_accuracy_plot_age_tre = get_k_accuracy_plot(1,2)\n",
    "\n",
    "# case2: age vs chol\n",
    "k_accuracy_plot_age_cho = get_k_accuracy_plot(1,3)\n",
    "\n",
    "# case3: age vs thalach\n",
    "k_accuracy_plot_age_tha = get_k_accuracy_plot(1,4)\n",
    "\n",
    "# case4: trestbps vs chol\n",
    "k_accuracy_plot_tre_cho = get_k_accuracy_plot(2,3)\n",
    "\n",
    "# case5: trestbps vs thalach \n",
    "k_accuracy_plot_tre_tha = get_k_accuracy_plot(2,4)\n",
    "\n",
    "# case6: chol vs thalach\n",
    "k_accuracy_plot_cho_tha = get_k_accuracy_plot(3,4)"
   ]
  },
  {
   "cell_type": "code",
   "execution_count": 18,
   "metadata": {},
   "outputs": [
    {
     "data": {
      "image/png": "[encoded data removed]",
      "text/plain": [
       "plot without title"
      ]
     },
     "metadata": {
      "image/png": {
       "height": 480,
       "width": 1200
      }
     },
     "output_type": "display_data"
    }
   ],
   "source": [
    "options(repr.plot.width = 20, repr.plot.height = 8)\n",
    "grid.arrange(k_accuracy_plot_age_tre, k_accuracy_plot_age_cho,k_accuracy_plot_age_tha,k_accuracy_plot_tre_cho,k_accuracy_plot_tre_tha,k_accuracy_plot_cho_tha,\n",
    "            nrow=2,ncol=3)"
   ]
  },
  {
   "cell_type": "markdown",
   "metadata": {},
   "source": [
    "From above plots, we can get the best K for each cases:\n",
    "\n",
    "- case1: age vs trestbps: k = 13\n",
    "\n",
    "- case2: age vs chol: k = 15\n",
    "\n",
    "- case3: age vs thalach: k = 15\n",
    "\n",
    "- case4: trestbps vs chol: k = 12\n",
    "\n",
    "- case5: trestbps vs thalach: k = 14\n",
    "\n",
    "- case6: chol vs thalach: k = 15"
   ]
  },
  {
   "cell_type": "markdown",
   "metadata": {},
   "source": [
    "# Classification for all cases"
   ]
  },
  {
   "cell_type": "code",
   "execution_count": null,
   "metadata": {},
   "outputs": [],
   "source": [
    "get_predictions = function(predIndex1, predIndex2, k){\n",
    "        #set seed\n",
    "        set.seed(2022)\n",
    "        \n",
    "        #create formula\n",
    "        formula = paste(\"target\", \"~\", paste(predictors[predIndex1],sep = \"+\", predictors[predIndex2]))\n",
    "        \n",
    "        # tune spec for all cases\n",
    "        knn_spec = nearest_neighbor(weight_func = \"rectangular\", neighbors = k) %>%\n",
    "                      set_engine(\"kknn\") %>%\n",
    "                      set_mode(\"classification\")\n",
    "    \n",
    "        # create function for creating recipe\n",
    "        heart_recipe = recipe(as.formula(formula),data = heart_disease_train) %>%\n",
    "                        step_scale(all_predictors()) %>%\n",
    "                        step_center(all_predictors())\n",
    "        \n",
    "        # Get accuracy from different k\n",
    "        heart_fit = workflow() %>%\n",
    "                       add_recipe(heart_recipe) %>%\n",
    "                       add_model(knn_spec) %>%\n",
    "                       fit(data = heart_disease_train)\n",
    "    \n",
    "        # Do prediction and save result to the data frame\n",
    "        predictions = predict(heart_fit,heart_disease_test) %>%\n",
    "                        bind_cols(heart_disease_test)\n",
    "        \n",
    "    }"
   ]
  },
  {
   "cell_type": "code",
   "execution_count": null,
   "metadata": {},
   "outputs": [],
   "source": [
    "# case1: age vs trestbps, where k = 13\n",
    "predictions_age_tre = get_predictions(1,2,13)\n",
    "\n",
    "# case2: age vs chol, where k = 15\n",
    "predictions_age_cho = get_predictions(1,3,15)\n",
    "\n",
    "# case3: age vs thalach, where k = 15\n",
    "predictions_age_tha = get_predictions(1,4,15)\n",
    "\n",
    "# case4: trestbps vs chol, where k = 12\n",
    "predictions_tre_cho = get_predictions(2,3,14)\n",
    "\n",
    "# case5: trestbps vs thalach, where k = 14 \n",
    "predictions_tre_tha = get_predictions(2,4,14)\n",
    "\n",
    "# case6: chol vs thalach, where k = 15\n",
    "predictions_cho_tha = get_predictions(3,4,8)"
   ]
  },
  {
   "cell_type": "markdown",
   "metadata": {},
   "source": [
    "# Evaluate accuracy for all cases"
   ]
  },
  {
   "cell_type": "code",
   "execution_count": null,
   "metadata": {},
   "outputs": [],
   "source": [
    "# case1: age vs trestbps\n",
    "prediction_accuracy_age_tre = predictions_age_tre %>%\n",
    "        metrics(truth = target, estimate = .pred_class) %>%\n",
    "        filter(.metric == \"accuracy\") %>%\n",
    "        select(.estimate) %>%\n",
    "        pull()\n",
    "# case2: age vs chol\n",
    "prediction_accuracy_age_cho = predictions_age_cho %>%\n",
    "        metrics(truth = target, estimate = .pred_class)%>%\n",
    "        filter(.metric == \"accuracy\") %>%\n",
    "        select(.estimate) %>%\n",
    "        pull()  \n",
    "# case3: age vs thalach\n",
    "prediction_accuracy_age_tha = predictions_age_tha %>%\n",
    "        metrics(truth = target, estimate = .pred_class)%>%\n",
    "        filter(.metric == \"accuracy\") %>%\n",
    "        select(.estimate) %>%\n",
    "        pull()  \n",
    "# case4: trestbps vs chol\n",
    "prediction_accuracy_tre_cho = predictions_tre_cho %>%\n",
    "        metrics(truth = target, estimate = .pred_class)%>%\n",
    "        filter(.metric == \"accuracy\") %>%\n",
    "        select(.estimate) %>%\n",
    "        pull()  \n",
    "# case5: trestbps vs thalach\n",
    "prediction_accuracy_tre_tha = predictions_tre_tha %>%\n",
    "        metrics(truth = target, estimate = .pred_class)%>%\n",
    "        filter(.metric == \"accuracy\") %>%\n",
    "        select(.estimate) %>%\n",
    "        pull()  \n",
    "# case6: chol vs thalach\n",
    "prediction_accuracy_cho_tha = predictions_cho_tha %>%\n",
    "        metrics(truth = target, estimate = .pred_class)%>%\n",
    "        filter(.metric == \"accuracy\") %>%\n",
    "        select(.estimate) %>%\n",
    "        pull() \n",
    "\n",
    "Combination = c(\"age vs trestbps\", \"age vs chol\", \"age vs thalach\", \"trestbps vs chol\", \"trestbps vs thalach\",\"chol vs thalach\")\n",
    "Accuracy = c(prediction_accuracy_age_tre,prediction_accuracy_age_cho,prediction_accuracy_age_tha,\n",
    "              prediction_accuracy_tre_cho,prediction_accuracy_tre_tha,prediction_accuracy_cho_tha)\n",
    "\n",
    "df = data.frame(Combination,Accuracy) %>%\n",
    "        arrange(desc(Accuracy))\n",
    "df"
   ]
  },
  {
   "cell_type": "markdown",
   "metadata": {},
   "source": [
    "Therefore, we will use age and thalach, trestbps and thalach, chol and thalach for classification to get the best result."
   ]
  },
  {
   "cell_type": "markdown",
   "metadata": {},
   "source": [
    "# Visualizae accuracy via confusion matrix for three top best cases"
   ]
  },
  {
   "cell_type": "code",
   "execution_count": null,
   "metadata": {},
   "outputs": [],
   "source": [
    "# age vs thalach,\t0.6800000\n",
    "conf_mat_age_tha = predictions_age_tha %>% \n",
    "      conf_mat(truth = target, estimate = .pred_class)\n",
    "cat(\"Confusion matrix for age vs thalach\\n\\n\")\n",
    "conf_mat_age_tha\n",
    "cat(\"\\n\\n\")\n",
    "\n",
    "# trestbps vs thalach,\t0.6533333\n",
    "conf_mat_tre_tha = predictions_tre_tha %>% \n",
    "      conf_mat(truth = target, estimate = .pred_class)\n",
    "cat(\"Confusion matrix for trestbps vs thalach\\n\\n\")\n",
    "conf_mat_tre_tha\n",
    "cat(\"\\n\\n\")\n",
    "\n",
    "# chol vs thalach,\t0.6133333\n",
    "conf_mat_cho_tha = predictions_cho_tha %>% \n",
    "      conf_mat(truth = target, estimate = .pred_class)\n",
    "cat(\"Confusion matrix for chol vs thalach\\n\\n\")\n",
    "conf_mat_cho_tha"
   ]
  },
  {
   "cell_type": "markdown",
   "metadata": {},
   "source": [
    "# Visualizae accuracy via colored prediction map"
   ]
  },
  {
   "cell_type": "markdown",
   "metadata": {},
   "source": [
    "### age vs thalach, using k = 10"
   ]
  },
  {
   "cell_type": "code",
   "execution_count": null,
   "metadata": {},
   "outputs": [],
   "source": [
    "# create the grid of vals, and arrange in a data frame\n",
    "a_grid <- seq(min(heart_disease_train$age), \n",
    "                max(heart_disease_train$age), \n",
    "                length.out = 100)\n",
    "b_grid <- seq(min(heart_disease_train$thalach), \n",
    "                max(heart_disease_train$thalach), \n",
    "                length.out = 100)\n",
    "asgrid <- as_tibble(expand.grid(age = a_grid, \n",
    "                                thalach = b_grid))\n",
    "# set spec \n",
    "knn_spec = nearest_neighbor(weight_func = \"rectangular\", neighbors = 10) %>%\n",
    "                set_engine(\"kknn\") %>%\n",
    "                set_mode(\"classification\")\n",
    "    \n",
    "# create function for creating recipe\n",
    "heart_recipe = recipe(target~ age + thalach ,data = heart_disease_train) %>%\n",
    "                step_scale(all_predictors()) %>%\n",
    "                step_center(all_predictors())\n",
    "        \n",
    "# Get accuracy from different k\n",
    "heart_fit = workflow() %>%\n",
    "                add_recipe(heart_recipe) %>%\n",
    "                add_model(knn_spec) %>%\n",
    "                fit(data = heart_disease_train)\n",
    "# use the fit workflow to make predictions at the grid points\n",
    "knnPredGrid <- predict(heart_fit, asgrid)\n",
    "\n",
    "# bind the predictions as a new column with the grid points\n",
    "prediction_table <- bind_cols(knnPredGrid, asgrid)\n",
    "\n",
    "# plot:\n",
    "# 1. the colored scatter of the original data\n",
    "# 2. the faded colored scatter for the grid points\n",
    "wkflw_plot <-\n",
    "  ggplot() +\n",
    "  geom_point(data = heart_disease_train, \n",
    "             mapping = aes(x = age, \n",
    "                           y = thalach, \n",
    "                           color = target), \n",
    "             alpha = 0.75) +\n",
    "  geom_point(data = prediction_table, \n",
    "             mapping = aes(x = age, \n",
    "                           y = thalach, \n",
    "                           color = .pred_class), \n",
    "             alpha = 0.02, \n",
    "             size = 5) +\n",
    "  labs(color = \"Heart Disease\", \n",
    "       x = \"age\", \n",
    "       y = \"thalach\",\n",
    "      title = \"Colored prediction map using age and thalach, where k is 10\") +\n",
    "  scale_color_manual(labels = c(\"yes\", \"no\"), \n",
    "                     values = c(\"orange2\", \"steelblue2\")) +\n",
    "  theme(text = element_text(size = 12))"
   ]
  },
  {
   "cell_type": "code",
   "execution_count": null,
   "metadata": {},
   "outputs": [],
   "source": [
    "options(repr.plot.width = 10, repr.plot.height = 8)\n",
    "wkflw_plot"
   ]
  },
  {
   "cell_type": "markdown",
   "metadata": {},
   "source": [
    "### trestbps vs thalach, using k = 14"
   ]
  },
  {
   "cell_type": "code",
   "execution_count": null,
   "metadata": {},
   "outputs": [],
   "source": [
    "# create the grid of vals, and arrange in a data frame\n",
    "a_grid <- seq(min(heart_disease_train$trestbps), \n",
    "                max(heart_disease_train$trestbps), \n",
    "                length.out = 100)\n",
    "b_grid <- seq(min(heart_disease_train$thalach), \n",
    "                max(heart_disease_train$thalach), \n",
    "                length.out = 100)\n",
    "asgrid <- as_tibble(expand.grid(trestbps = a_grid, \n",
    "                                thalach = b_grid))\n",
    "# set spec \n",
    "knn_spec = nearest_neighbor(weight_func = \"rectangular\", neighbors = 14) %>%\n",
    "                set_engine(\"kknn\") %>%\n",
    "                set_mode(\"classification\")\n",
    "    \n",
    "# create function for creating recipe\n",
    "heart_recipe = recipe(target~ trestbps + thalach ,data = heart_disease_train) %>%\n",
    "                step_scale(all_predictors()) %>%\n",
    "                step_center(all_predictors())\n",
    "        \n",
    "# Get accuracy from different k\n",
    "heart_fit = workflow() %>%\n",
    "                add_recipe(heart_recipe) %>%\n",
    "                add_model(knn_spec) %>%\n",
    "                fit(data = heart_disease_train)\n",
    "# use the fit workflow to make predictions at the grid points\n",
    "knnPredGrid <- predict(heart_fit, asgrid)\n",
    "\n",
    "# bind the predictions as a new column with the grid points\n",
    "prediction_table <- bind_cols(knnPredGrid, asgrid)\n",
    "\n",
    "# plot:\n",
    "# 1. the colored scatter of the original data\n",
    "# 2. the faded colored scatter for the grid points\n",
    "wkflw_plot <-\n",
    "  ggplot() +\n",
    "  geom_point(data = heart_disease_train, \n",
    "             mapping = aes(x = trestbps, \n",
    "                           y = thalach, \n",
    "                           color = target), \n",
    "             alpha = 0.75) +\n",
    "  geom_point(data = prediction_table, \n",
    "             mapping = aes(x = trestbps, \n",
    "                           y = thalach, \n",
    "                           color = .pred_class), \n",
    "             alpha = 0.02, \n",
    "             size = 5) +\n",
    "  labs(color = \"Heart Disease\", \n",
    "       x = \"trestbps\", \n",
    "       y = \"thalach\",\n",
    "      title = \"Colored prediction map using trestbps and thalach, where k is 10\") +\n",
    "  scale_color_manual(labels = c(\"yes\", \"no\"), \n",
    "                     values = c(\"orange2\", \"steelblue2\")) +\n",
    "  theme(text = element_text(size = 12))"
   ]
  },
  {
   "cell_type": "code",
   "execution_count": null,
   "metadata": {},
   "outputs": [],
   "source": [
    "options(repr.plot.width = 10, repr.plot.height = 8)\n",
    "wkflw_plot"
   ]
  },
  {
   "cell_type": "markdown",
   "metadata": {},
   "source": [
    "### chol vs thalach, using k = 8"
   ]
  },
  {
   "cell_type": "code",
   "execution_count": null,
   "metadata": {},
   "outputs": [],
   "source": [
    "# create the grid of vals, and arrange in a data frame\n",
    "a_grid <- seq(min(heart_disease_train$chol), \n",
    "                max(heart_disease_train$chol), \n",
    "                length.out = 100)\n",
    "b_grid <- seq(min(heart_disease_train$thalach), \n",
    "                max(heart_disease_train$thalach), \n",
    "                length.out = 100)\n",
    "asgrid <- as_tibble(expand.grid(chol = a_grid, \n",
    "                                thalach = b_grid))\n",
    "# set spec \n",
    "knn_spec = nearest_neighbor(weight_func = \"rectangular\", neighbors = 8) %>%\n",
    "                set_engine(\"kknn\") %>%\n",
    "                set_mode(\"classification\")\n",
    "    \n",
    "# create function for creating recipe\n",
    "heart_recipe = recipe(target~ chol + thalach ,data = heart_disease_train) %>%\n",
    "                step_scale(all_predictors()) %>%\n",
    "                step_center(all_predictors())\n",
    "        \n",
    "# Get accuracy from different k\n",
    "heart_fit = workflow() %>%\n",
    "                add_recipe(heart_recipe) %>%\n",
    "                add_model(knn_spec) %>%\n",
    "                fit(data = heart_disease_train)\n",
    "# use the fit workflow to make predictions at the grid points\n",
    "knnPredGrid <- predict(heart_fit, asgrid)\n",
    "\n",
    "# bind the predictions as a new column with the grid points\n",
    "prediction_table <- bind_cols(knnPredGrid, asgrid)\n",
    "\n",
    "# plot:\n",
    "# 1. the colored scatter of the original data\n",
    "# 2. the faded colored scatter for the grid points\n",
    "wkflw_plot <-\n",
    "  ggplot() +\n",
    "  geom_point(data = heart_disease_train, \n",
    "             mapping = aes(x = chol, \n",
    "                           y = thalach, \n",
    "                           color = target), \n",
    "             alpha = 0.75) +\n",
    "  geom_point(data = prediction_table, \n",
    "             mapping = aes(x = chol, \n",
    "                           y = thalach, \n",
    "                           color = .pred_class), \n",
    "             alpha = 0.02, \n",
    "             size = 5) +\n",
    "  labs(color = \"Heart Disease\", \n",
    "       x = \"chol\", \n",
    "       y = \"thalach\",\n",
    "      title = \"Colored prediction map using chol and thalach, where k is 8\") +\n",
    "  scale_color_manual(labels = c(\"yes\", \"no\"), \n",
    "                     values = c(\"orange2\", \"steelblue2\")) +\n",
    "  theme(text = element_text(size = 12))"
   ]
  },
  {
   "cell_type": "code",
   "execution_count": null,
   "metadata": {},
   "outputs": [],
   "source": [
    "options(repr.plot.width = 10, repr.plot.height = 8)\n",
    "wkflw_plot"
   ]
  },
  {
   "cell_type": "code",
   "execution_count": null,
   "metadata": {},
   "outputs": [],
   "source": []
  }
 ],
 "metadata": {
  "kernelspec": {
   "display_name": "R",
   "language": "R",
   "name": "ir"
  },
  "language_info": {
   "codemirror_mode": "r",
   "file_extension": ".r",
   "mimetype": "text/x-r-source",
   "name": "R",
   "pygments_lexer": "r",
   "version": "4.0.0"
  }
 },
 "nbformat": 4,
 "nbformat_minor": 4
}
